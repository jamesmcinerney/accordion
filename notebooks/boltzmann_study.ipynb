{
 "cells": [
  {
   "attachments": {},
   "cell_type": "markdown",
   "metadata": {
    "nterop": {
     "id": "144"
    }
   },
   "source": [
    "## Boltzmann Exploration Temperature Sweep\n",
    "\n",
    "Exploration parameters are hard to fit offline because they determine subsequent data collection and model estimation. In this notebook we use simulation to perform a hyperparameter sweep over Boltzmann exploration for recommendation.\n",
    "<br/>\n",
    "<br/>"
   ]
  },
  {
   "cell_type": "code",
   "execution_count": 34,
   "metadata": {
    "nterop": {
     "id": "1"
    }
   },
   "outputs": [
    {
     "name": "stdout",
     "output_type": "stream",
     "text": [
      "/root/notebooks/accordion\n",
      "The autoreload extension is already loaded. To reload it, use:\n",
      "  %reload_ext autoreload\n"
     ]
    }
   ],
   "source": [
    "import paths\n",
    "%cd {paths.base}\n",
    "from os.path import join\n",
    "\n",
    "%load_ext autoreload\n",
    "%autoreload 2\n",
    "from simtrain import process_dat, utils, explore_models\n",
    "from simtrain import SETTINGS_POLIMI as SETTINGS\n",
    "from experiment import boltzmann_study as bolt\n",
    "\n",
    "import numpy as np\n",
    "import pandas as pd\n",
    "%matplotlib inline\n",
    "from matplotlib import pyplot as plt\n",
    "import os\n",
    "os.environ['NUMEXPR_MAX_THREADS'] = SETTINGS.NUMEXPR_MAX_THREADS"
   ]
  },
  {
   "cell_type": "code",
   "execution_count": 35,
   "metadata": {
    "nterop": {
     "id": "2"
    }
   },
   "outputs": [
    {
     "name": "stdout",
     "output_type": "stream",
     "text": [
      "simulation components: {'ab_test_id': 'train', 'rec_model_cell_nbr': [1], 'user_model_cell_nbr': 1, 'visit_model_cell_nbr': 1}\n"
     ]
    }
   ],
   "source": [
    "print('simulation components:', SETTINGS.simulation_components)"
   ]
  },
  {
   "cell_type": "code",
   "execution_count": 36,
   "metadata": {
    "nterop": {
     "id": "3"
    }
   },
   "outputs": [],
   "source": [
    "# specify which data to load:\n",
    "dat_all, stg_all = process_dat.load_dat(paths.cw_stages['output']['alldat'])"
   ]
  },
  {
   "cell_type": "code",
   "execution_count": 37,
   "metadata": {
    "nterop": {
     "id": "3"
    },
    "scrolled": true
   },
   "outputs": [
    {
     "name": "stdout",
     "output_type": "stream",
     "text": [
      "settings test seen users {'NI': 920, 'NU': 1247, 'T': 28.01816558837892, 'NS': 100, 'INF_TIME': 1000}\n"
     ]
    }
   ],
   "source": [
    "# pull out test datatasets:\n",
    "cell_col = 'acnt.test_cell_nbr'\n",
    "cells = {'train':1,\n",
    "        'valid':2,\n",
    "        'test_seen_users':3,\n",
    "        'test_unseen_users':4}\n",
    "\n",
    "train_dat = dat_all[dat_all[cell_col]==cells['train']]\n",
    "test_dat_s = dat_all[dat_all[cell_col]==cells['test_seen_users']]\n",
    "test_dat_u = dat_all[dat_all[cell_col]==cells['test_unseen_users']]\n",
    "\n",
    "stg_tr = process_dat.get_settings(train_dat)\n",
    "stg_s = process_dat.get_settings(test_dat_s)\n",
    "stg_u = process_dat.get_settings(test_dat_u)\n",
    "\n",
    "# adjust test time to start at zero:\n",
    "start_time = train_dat.time.max()\n",
    "stg_s['T'] = stg_s['T'] - start_time\n",
    "stg_u['T'] = stg_u['T'] - start_time\n",
    "print('settings test seen users',stg_s)"
   ]
  },
  {
   "cell_type": "code",
   "execution_count": 51,
   "metadata": {
    "nterop": {
     "id": "145"
    }
   },
   "outputs": [
    {
     "name": "stdout",
     "output_type": "stream",
     "text": [
      "temperature sweep settings [1, 0.5, 0.25, 0.125, 0.0625]\n"
     ]
    }
   ],
   "source": [
    "print('temperature sweep settings', SETTINGS.hyp['hyp_study']['temperature_sweep'])"
   ]
  },
  {
   "cell_type": "code",
   "execution_count": 52,
   "metadata": {
    "nterop": {
     "id": "147"
    }
   },
   "outputs": [
    {
     "data": {
      "text/plain": [
       "[70.00225830078125,\n",
       " 73.00225830078125,\n",
       " 80.00225830078125,\n",
       " 87.00225830078125,\n",
       " 94.00225830078125,\n",
       " 97.99787902832031]"
      ]
     },
     "execution_count": 52,
     "metadata": {
      "nterop": {
       "id": "186"
      }
     },
     "output_type": "execute_result"
    }
   ],
   "source": [
    "# time: retrain 3 days after start time, then every 7 days thereafter until end of test period\n",
    "tevmin = test_dat_s.time.min()\n",
    "tevmax = test_dat_s.time.max()\n",
    "init_time_incr = 3\n",
    "time_incr = 7\n",
    "time_sweep = [tevmin, tevmin+init_time_incr] + list(np.arange(tevmin+init_time_incr+time_incr, tevmax, time_incr)) + [tevmax]\n",
    "s_temp = {}\n",
    "time_sweep"
   ]
  },
  {
   "cell_type": "code",
   "execution_count": 53,
   "metadata": {
    "nterop": {
     "id": "149"
    }
   },
   "outputs": [
    {
     "data": {
      "text/plain": [
       "{'init_args': {'n_components': 10, 'init': 'random', 'random_state': 0},\n",
       " 'temperature': 1.0,\n",
       " 'temperature_sweep': [1, 0.5, 0.25, 0.125, 0.0625],\n",
       " 'constant_rate': True}"
      ]
     },
     "execution_count": 53,
     "metadata": {
      "nterop": {
       "id": "187"
      }
     },
     "output_type": "execute_result"
    }
   ],
   "source": [
    "SETTINGS.hyp['hyp_study']"
   ]
  },
  {
   "cell_type": "code",
   "execution_count": 89,
   "metadata": {
    "nterop": {
     "id": "154"
    },
    "scrolled": true
   },
   "outputs": [],
   "source": [
    "# run sim both for PP (homogeneous) and iPP (inhomogeneous):\n",
    "for rate_style in ['pp', 'ipp']:\n",
    "    # supply configuration of recommender model to simulator:\n",
    "    rec_model_config = [('train',1,99)]\n",
    "    user_set = np.arange(20, dtype='int64')\n",
    "    # perform temperature sweep and return a set of simulations:\n",
    "    s_temp[rate_style] = bolt.simulate_temperature(user_set, bolt.user_activity(train_dat), \\\n",
    "                                       train_dat, test_dat_s, stg_tr, stg_s, rec_model_config, \\\n",
    "                                       time_sweep, rate_style)\n",
    "    # save simulations:\n",
    "    pp_sim_stem = join(paths.dat, '%s_sim_invT%f.csv.gz')\n",
    "    for invT in SETTINGS.hyp['hyp_study']['temperature_sweep']:\n",
    "        s_temp[rate_style][invT].to_csv(pp_sim_stem % (rate_style, invT))"
   ]
  },
  {
   "cell_type": "code",
   "execution_count": 83,
   "metadata": {
    "nterop": {
     "id": "188"
    }
   },
   "outputs": [
    {
     "name": "stdout",
     "output_type": "stream",
     "text": [
      "INV TEMP 1\n",
      "INV TEMP 0.5\n",
      "INV TEMP 0.25\n",
      "INV TEMP 0.125\n",
      "INV TEMP 0.0625\n"
     ]
    },
    {
     "data": {
      "image/png": "[encoded data removed]",
      "text/plain": [
       "<Figure size 432x288 with 1 Axes>"
      ]
     },
     "metadata": {
      "needs_background": "light",
      "nterop": {
       "id": "189"
      }
     },
     "output_type": "display_data"
    }
   ],
   "source": [
    "bolt.plot_temp_sweep(s_temp['ipp'], 'inhomogeneous') "
   ]
  },
  {
   "cell_type": "code",
   "execution_count": 88,
   "metadata": {
    "nterop": {
     "id": "190"
    }
   },
   "outputs": [
    {
     "name": "stdout",
     "output_type": "stream",
     "text": [
      "INV TEMP 1\n",
      "INV TEMP 0.5\n",
      "INV TEMP 0.25\n",
      "INV TEMP 0.125\n",
      "INV TEMP 0.0625\n"
     ]
    },
    {
     "data": {
      "image/png": "[encoded data removed]",
      "text/plain": [
       "<Figure size 432x288 with 1 Axes>"
      ]
     },
     "metadata": {
      "needs_background": "light",
      "nterop": {
       "id": "191"
      }
     },
     "output_type": "display_data"
    }
   ],
   "source": [
    "bolt.plot_temp_sweep(s_temp['pp'], 'homogenous')    "
   ]
  }
 ],
 "metadata": {
  "hide_input": false,
  "kernelspec": {
   "display_name": "Python 3 (ipykernel)",
   "language": "python",
   "name": "python3"
  },
  "language_info": {
   "codemirror_mode": {
    "name": "ipython",
    "version": 3
   },
   "file_extension": ".py",
   "mimetype": "text/x-python",
   "name": "python",
   "nbconvert_exporter": "python",
   "pygments_lexer": "ipython3",
   "version": "3.7.12"
  },
  "nterop": {
   "seedId": "191"
  }
 },
 "nbformat": 4,
 "nbformat_minor": 4
}
