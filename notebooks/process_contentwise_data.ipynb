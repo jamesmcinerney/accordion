{
 "cells": [
  {
   "attachments": {},
   "cell_type": "markdown",
   "metadata": {
    "nterop": {
     "id": "1"
    }
   },
   "source": [
    "# Process ContentWise Data\n",
    "\n",
    "**Goal**: convert ContentWise dataset into pandas format that can be used to train simulator. Infrequent users and items are discarded, a column adding dynamic user state is added, and the dataset is split into train, validate, test users seen in training, and test for users unseen in training.\n",
    "<br/>\n",
    "<br/>"
   ]
  },
  {
   "cell_type": "code",
   "execution_count": 26,
   "metadata": {
    "nterop": {
     "id": "2"
    }
   },
   "outputs": [
    {
     "name": "stdout",
     "output_type": "stream",
     "text": [
      "/root/notebooks/accordion\n",
      "The autoreload extension is already loaded. To reload it, use:\n",
      "  %reload_ext autoreload\n"
     ]
    }
   ],
   "source": [
    "import paths\n",
    "%cd {paths.base}\n",
    "import os\n",
    "from os.path import join\n",
    "\n",
    "%load_ext autoreload\n",
    "%autoreload 2\n",
    "from simtrain import utils\n",
    "from simtrain import SETTINGS_POLIMI as SETTINGS\n",
    "import numpy as np\n",
    "import pandas as pd\n",
    "%matplotlib inline\n",
    "from matplotlib import pyplot as plt\n",
    "import scipy\n",
    "from scipy import stats, sparse\n",
    "import shutil\n",
    "from datetime import datetime\n",
    "from tqdm.notebook import tqdm, trange\n",
    "import time    # to be used in loop iterations\n",
    "import json\n",
    "\n",
    "os.environ['NUMEXPR_MAX_THREADS'] = SETTINGS.NUMEXPR_MAX_THREADS"
   ]
  },
  {
   "cell_type": "code",
   "execution_count": 2,
   "metadata": {
    "nterop": {
     "id": "3"
    }
   },
   "outputs": [],
   "source": [
    "path_neg_imp = paths.cw_dat_paths['negative_impressions']\n",
    "path_pos_imp = paths.cw_dat_paths['positive_impressions']\n",
    "path_clicks = paths.cw_dat_paths['interactions']"
   ]
  },
  {
   "cell_type": "code",
   "execution_count": 3,
   "metadata": {
    "nterop": {
     "id": "3"
    }
   },
   "outputs": [],
   "source": [
    "df_neg = pd.read_csv(path_neg_imp)\n",
    "df_pos = pd.read_csv(path_pos_imp)\n",
    "df_int = pd.read_csv(path_clicks)"
   ]
  },
  {
   "attachments": {},
   "cell_type": "markdown",
   "metadata": {
    "nterop": {
     "id": "142"
    }
   },
   "source": [
    "### Next step: process positive impressions, negative impressions, and interactions into a single dataframe\n",
    "Warning: the next cell is memory intensive and will take a long time."
   ]
  },
  {
   "cell_type": "code",
   "execution_count": 4,
   "metadata": {
    "nterop": {
     "id": "18"
    }
   },
   "outputs": [
    {
     "data": {
      "application/vnd.jupyter.widget-view+json": {
       "model_id": "d049f362c69045b1a2ccd027767ab744",
       "version_major": 2,
       "version_minor": 0
      },
      "text/plain": [
       "0it [00:00, ?it/s]"
      ]
     },
     "metadata": {
      "nterop": {
       "id": "143"
      }
     },
     "output_type": "display_data"
    },
    {
     "data": {
      "application/vnd.jupyter.widget-view+json": {
       "model_id": "53f5fbc512334b5282f4d19526131a79",
       "version_major": 2,
       "version_minor": 0
      },
      "text/plain": [
       "0it [00:00, ?it/s]"
      ]
     },
     "metadata": {
      "nterop": {
       "id": "144"
      }
     },
     "output_type": "display_data"
    },
    {
     "data": {
      "text/html": [
       "<div>\n",
       "<style scoped>\n",
       "    .dataframe tbody tr th:only-of-type {\n",
       "        vertical-align: middle;\n",
       "    }\n",
       "\n",
       "    .dataframe tbody tr th {\n",
       "        vertical-align: top;\n",
       "    }\n",
       "\n",
       "    .dataframe thead th {\n",
       "        text-align: right;\n",
       "    }\n",
       "</style>\n",
       "<table border=\"1\" class=\"dataframe\">\n",
       "  <thead>\n",
       "    <tr style=\"text-align: right;\">\n",
       "      <th></th>\n",
       "      <th>user_id</th>\n",
       "      <th>rec_id</th>\n",
       "      <th>item_id</th>\n",
       "      <th>t</th>\n",
       "      <th>reward</th>\n",
       "      <th>user_state</th>\n",
       "      <th>cell_id</th>\n",
       "    </tr>\n",
       "  </thead>\n",
       "  <tbody>\n",
       "    <tr>\n",
       "      <th>0</th>\n",
       "      <td>20172</td>\n",
       "      <td>0</td>\n",
       "      <td>20128</td>\n",
       "      <td>43.384224</td>\n",
       "      <td>1.0</td>\n",
       "      <td></td>\n",
       "      <td>1</td>\n",
       "    </tr>\n",
       "    <tr>\n",
       "      <th>1</th>\n",
       "      <td>20172</td>\n",
       "      <td>0</td>\n",
       "      <td>6674</td>\n",
       "      <td>43.384224</td>\n",
       "      <td>0.0</td>\n",
       "      <td></td>\n",
       "      <td>1</td>\n",
       "    </tr>\n",
       "    <tr>\n",
       "      <th>2</th>\n",
       "      <td>20172</td>\n",
       "      <td>0</td>\n",
       "      <td>4625</td>\n",
       "      <td>43.384224</td>\n",
       "      <td>0.0</td>\n",
       "      <td></td>\n",
       "      <td>1</td>\n",
       "    </tr>\n",
       "    <tr>\n",
       "      <th>3</th>\n",
       "      <td>20172</td>\n",
       "      <td>0</td>\n",
       "      <td>19462</td>\n",
       "      <td>43.384224</td>\n",
       "      <td>0.0</td>\n",
       "      <td></td>\n",
       "      <td>1</td>\n",
       "    </tr>\n",
       "    <tr>\n",
       "      <th>4</th>\n",
       "      <td>20172</td>\n",
       "      <td>0</td>\n",
       "      <td>19041</td>\n",
       "      <td>43.384224</td>\n",
       "      <td>0.0</td>\n",
       "      <td></td>\n",
       "      <td>1</td>\n",
       "    </tr>\n",
       "    <tr>\n",
       "      <th>...</th>\n",
       "      <td>...</td>\n",
       "      <td>...</td>\n",
       "      <td>...</td>\n",
       "      <td>...</td>\n",
       "      <td>...</td>\n",
       "      <td>...</td>\n",
       "      <td>...</td>\n",
       "    </tr>\n",
       "    <tr>\n",
       "      <th>182971128</th>\n",
       "      <td>42152</td>\n",
       "      <td>6</td>\n",
       "      <td>7733</td>\n",
       "      <td>5.066030</td>\n",
       "      <td>0.0</td>\n",
       "      <td></td>\n",
       "      <td>1</td>\n",
       "    </tr>\n",
       "    <tr>\n",
       "      <th>182971129</th>\n",
       "      <td>42152</td>\n",
       "      <td>6</td>\n",
       "      <td>6625</td>\n",
       "      <td>5.066030</td>\n",
       "      <td>0.0</td>\n",
       "      <td></td>\n",
       "      <td>1</td>\n",
       "    </tr>\n",
       "    <tr>\n",
       "      <th>182971130</th>\n",
       "      <td>42152</td>\n",
       "      <td>6</td>\n",
       "      <td>18730</td>\n",
       "      <td>5.066030</td>\n",
       "      <td>0.0</td>\n",
       "      <td></td>\n",
       "      <td>1</td>\n",
       "    </tr>\n",
       "    <tr>\n",
       "      <th>182971131</th>\n",
       "      <td>42152</td>\n",
       "      <td>6</td>\n",
       "      <td>21941</td>\n",
       "      <td>5.066030</td>\n",
       "      <td>0.0</td>\n",
       "      <td></td>\n",
       "      <td>1</td>\n",
       "    </tr>\n",
       "    <tr>\n",
       "      <th>182971132</th>\n",
       "      <td>42152</td>\n",
       "      <td>6</td>\n",
       "      <td>4281</td>\n",
       "      <td>5.066030</td>\n",
       "      <td>0.0</td>\n",
       "      <td></td>\n",
       "      <td>1</td>\n",
       "    </tr>\n",
       "  </tbody>\n",
       "</table>\n",
       "<p>182971133 rows × 7 columns</p>\n",
       "</div>"
      ],
      "text/plain": [
       "           user_id  rec_id  item_id          t  reward user_state  cell_id\n",
       "0            20172       0    20128  43.384224     1.0                   1\n",
       "1            20172       0     6674  43.384224     0.0                   1\n",
       "2            20172       0     4625  43.384224     0.0                   1\n",
       "3            20172       0    19462  43.384224     0.0                   1\n",
       "4            20172       0    19041  43.384224     0.0                   1\n",
       "...            ...     ...      ...        ...     ...        ...      ...\n",
       "182971128    42152       6     7733   5.066030     0.0                   1\n",
       "182971129    42152       6     6625   5.066030     0.0                   1\n",
       "182971130    42152       6    18730   5.066030     0.0                   1\n",
       "182971131    42152       6    21941   5.066030     0.0                   1\n",
       "182971132    42152       6     4281   5.066030     0.0                   1\n",
       "\n",
       "[182971133 rows x 7 columns]"
      ]
     },
     "execution_count": 4,
     "metadata": {
      "nterop": {
       "id": "145"
      }
     },
     "output_type": "execute_result"
    }
   ],
   "source": [
    "def parse_items(s):\n",
    "    # convert string representation of items to list of int\n",
    "    return [int(s0) for s0 in s.split('[')[1].split(']')[0].split(' ') if len(s0)>0]\n",
    "\n",
    "# populate positive impressions:\n",
    "df_pos_merged = df_pos.merge(df_int, on='recommendation_id', how='inner')\n",
    "\n",
    "def convert_ms_days(t0, baseline):\n",
    "    return (t0 - baseline)/1000/3600/24\n",
    "\n",
    "start_time_ms = df_pos_merged.utc_ts_milliseconds.min()\n",
    "\n",
    "UID = []\n",
    "REC = []\n",
    "ITM = []\n",
    "TS = []\n",
    "RS = []\n",
    "\n",
    "print('processing interactions:')\n",
    "for ind,row in tqdm(df_pos_merged.iterrows()):\n",
    "    vs = parse_items(row.recommended_series_list)\n",
    "    c = row.recommendation_list_length\n",
    "    assert len(vs)==c\n",
    "    v1 = row.series_id\n",
    "    assert v1 in vs\n",
    "    t = convert_ms_days(row.utc_ts_milliseconds, start_time_ms)\n",
    "    # create set of new rows with same rec_id and user_id\n",
    "    UID += c*[row.user_id]\n",
    "    REC += c*[row.row_position]\n",
    "    ITM += vs\n",
    "    TS += c*[t]\n",
    "    RS += [((v0==v1) & (row.interaction_type==0)) for v0 in vs]\n",
    "\n",
    "    \n",
    "df = pd.DataFrame({'user_id':np.array(UID,dtype='int32'), \n",
    "                   'rec_id':np.array(REC,dtype='int32'),\n",
    "                   'item_id':np.array(ITM,dtype='int32'), \n",
    "                   't':np.array(TS,dtype='float32'),\n",
    "                    'reward':np.array(RS,dtype='float32')})\n",
    "    \n",
    "# group all positive events by user:\n",
    "user_sessions = df[df.reward>0].groupby('user_id')\n",
    "# keep users who have more than one play: \n",
    "valid_users = user_sessions.filter(lambda x: len(x)>1).user_id.unique()\n",
    "\n",
    "print('\\n\\nprocessing negative impressions:')\n",
    "# populate negative impressions:\n",
    "for ind,row in tqdm(df_neg.iterrows()):\n",
    "    uid = int(row.user_id)\n",
    "    if uid in valid_users:\n",
    "        vs = parse_items(row.recommended_series_list)\n",
    "        c = row.recommendation_list_length\n",
    "        # pick random true session for user and assign same timestamp:\n",
    "        t = user_sessions.get_group(uid).t.sample(n=1)\n",
    "        # create set of new rows with same rec_id and user_id\n",
    "        UID += c*[uid]\n",
    "        REC += c*[int(row.row_position)]\n",
    "        ITM += vs\n",
    "        TS += c*[t]\n",
    "        RS += c*[0]\n",
    "\n",
    "df_full = pd.DataFrame({'user_id':np.array(UID,dtype='int32'), \n",
    "                   'rec_id':np.array(REC,dtype='int32'),\n",
    "                   'item_id':np.array(ITM,dtype='int32'), \n",
    "                   't':np.array(TS,dtype='float32'),\n",
    "                    'reward':np.array(RS,dtype='float32')})\n",
    "    \n",
    "# init user state and cell id with dummary vars for now:\n",
    "df_full['user_state'] = ''\n",
    "df_full['cell_id'] = 1\n",
    "\n",
    "df_full"
   ]
  },
  {
   "cell_type": "code",
   "execution_count": 7,
   "metadata": {
    "nterop": {
     "id": "30"
    }
   },
   "outputs": [],
   "source": [
    "# save intermediary dataframe:\n",
    "df_full.to_csv(paths.cw_stages['intermediate_0'], compression='gzip')"
   ]
  },
  {
   "cell_type": "code",
   "execution_count": null,
   "metadata": {
    "nterop": {
     "id": "39"
    }
   },
   "outputs": [],
   "source": [
    "df_full = pd.read_csv(paths.cw_stages['intermediate_0'])"
   ]
  },
  {
   "cell_type": "code",
   "execution_count": 9,
   "metadata": {
    "nterop": {
     "id": "48"
    }
   },
   "outputs": [],
   "source": [
    "df_full.rename(columns={'t':'time',\n",
    "                  'item_id':'original_action',\n",
    "                  'user_state':'original_state'}, inplace=True)"
   ]
  },
  {
   "cell_type": "code",
   "execution_count": 28,
   "metadata": {
    "nterop": {
     "id": "146"
    }
   },
   "outputs": [
    {
     "data": {
      "text/plain": [
       "(27451795, 7)"
      ]
     },
     "execution_count": 28,
     "metadata": {
      "nterop": {
       "id": "147"
      }
     },
     "output_type": "execute_result"
    }
   ],
   "source": [
    "# sub-sample users to make everything downstream runnable with a smaller machine \n",
    "# (can change SETTINGS parameter if no limits on computation):\n",
    "subsample_users = np.random.choice(df_full.user_id.unique(), SETTINGS.N_SUBSAMPLE_USERS)\n",
    "df = df_full[df_full.user_id.isin(subsample_users)]\n",
    "df.shape"
   ]
  },
  {
   "cell_type": "code",
   "execution_count": 29,
   "metadata": {
    "nterop": {
     "id": "113"
    }
   },
   "outputs": [],
   "source": [
    "# count actions and discard those with less than 100 impressions or less than 5 streams:\n",
    "item_ic = df.groupby('original_action').original_action.count()\n",
    "item_sc = df[df.reward>0].groupby('original_action').original_action.count()\n",
    "keep_actions = item_ic[(item_ic >= 100) & (item_ic.index.isin(item_sc[item_sc>=5].index))].index"
   ]
  },
  {
   "cell_type": "code",
   "execution_count": 30,
   "metadata": {
    "nterop": {
     "id": "114"
    }
   },
   "outputs": [
    {
     "name": "stdout",
     "output_type": "stream",
     "text": [
      "num. actions to keep (6527,)\n"
     ]
    }
   ],
   "source": [
    "print('num. actions to keep', item_ic[item_ic>=10].index.shape)"
   ]
  },
  {
   "cell_type": "code",
   "execution_count": 31,
   "metadata": {
    "nterop": {
     "id": "51"
    }
   },
   "outputs": [
    {
     "name": "stdout",
     "output_type": "stream",
     "text": [
      "num nonzero values: 920\n",
      "len vocab 920\n",
      "new vocab [   44   118   125   181   204   229   270   325   379   397   430   434\n",
      "   465   466   470   488   625   643   674   693   702   716   746   795\n",
      "   797   817   821   850   864   886   901   939   953   982  1033  1050\n",
      "  1065  1092  1163  1189  1191  1221  1231  1240  1272  1318  1334  1340\n",
      "  1342  1391  1443  1444  1463  1477  1480  1496  1502  1609  1625  1631\n",
      "  1649  1686  1725  1746  1771  1813  1842  1964  2017  2078  2082  2084\n",
      "  2172  2253  2260  2269  2293  2368  2372  2447  2454  2475  2477  2481\n",
      "  2497  2501  2530  2565  2599  2607  2648  2717  2741  2769  2809  2824\n",
      "  2825  2868  2920  2928  2950  2960  3053  3062  3107  3122  3134  3198\n",
      "  3280  3378  3416  3470  3477  3502  3505  3515  3541  3603  3615  3660\n",
      "  3687  3689  3702  3738  3740  3747  3826  3953  3974  4017  4063  4064\n",
      "  4080  4149  4152  4157  4159  4164  4172  4260  4262  4264  4272  4274\n",
      "  4281  4347  4498  4569  4575  4580  4611  4625  4636  4706  4728  4768\n",
      "  4771  4791  4797  4862  4887  4902  4915  4948  5018  5019  5101  5150\n",
      "  5193  5197  5227  5250  5303  5343  5444  5483  5544  5552  5610  5625\n",
      "  5631  5654  5703  5722  5743  5751  5773  5780  5787  5827  5914  5945\n",
      "  6041  6056  6111  6186  6191  6192  6238  6290  6388  6403  6434  6674\n",
      "  6679  6728  6734  6750  6752  6757  6805  6806  6808  6826  6854  6872\n",
      "  6950  7034  7081  7106  7112  7157  7195  7227  7367  7409  7411  7417\n",
      "  7424  7432  7493  7494  7499  7554  7563  7569  7588  7609  7618  7666\n",
      "  7677  7698  7729  7733  7745  7755  7762  7805  7906  7933  7949  7999\n",
      "  8029  8035  8150  8181  8216  8246  8268  8277  8348  8369  8381  8405\n",
      "  8425  8463  8602  8619  8708  8741  8777  8791  8797  8924  8989  9026\n",
      "  9056  9077  9101  9142  9154  9176  9179  9229  9239  9245  9297  9327\n",
      "  9330  9370  9396  9410  9453  9473  9522  9570  9584  9639  9642  9701\n",
      "  9715  9721  9766  9785  9805  9819  9826  9827  9834  9844  9882  9909\n",
      " 10077 10144 10167 10228 10244 10315 10316 10381 10399 10413 10432 10448\n",
      " 10454 10456 10515 10530 10533 10539 10593 10653 10685 10753 10835 10841\n",
      " 10874 10913 10915 10927 10988 11005 11025 11027 11072 11134 11153 11154\n",
      " 11163 11204 11224 11238 11249 11260 11271 11292 11303 11339 11397 11441\n",
      " 11468 11514 11520 11562 11565 11619 11629 11655 11666 11802 11856 11858\n",
      " 11933 11964 11968 11970 11988 11995 12034 12086 12133 12158 12176 12185\n",
      " 12200 12228 12242 12252 12309 12326 12349 12421 12436 12449 12461 12490\n",
      " 12508 12542 12587 12595 12611 12613 12635 12666 12670 12675 12676 12738\n",
      " 12789 12799 12863 12892 12907 12950 12975 12979 12982 13099 13112 13116\n",
      " 13117 13152 13172 13199 13212 13218 13273 13343 13429 13490 13504 13534\n",
      " 13593 13655 13673 13676 13734 13737 13766 13943 13953 14002 14006 14008\n",
      " 14130 14247 14254 14271 14435 14585 14656 14682 14709 14716 14759 14782\n",
      " 14797 14834 14844 14886 14903 14935 14938 14953 14959 14988 15020 15023\n",
      " 15049 15069 15075 15164 15171 15256 15370 15374 15439 15486 15524 15575\n",
      " 15626 15633 15641 15644 15656 15658 15659 15766 15770 15773 15794 15810\n",
      " 15827 15906 15921 15961 15983 16033 16077 16098 16105 16129 16187 16190\n",
      " 16194 16241 16254 16287 16292 16297 16317 16319 16331 16357 16358 16364\n",
      " 16401 16419 16559 16561 16677 16708 16760 16778 16784 16806 16821 16844\n",
      " 16846 16848 16867 16885 16889 16892 16904 16927 16931 16966 17042 17135\n",
      " 17141 17175 17176 17177 17254 17265 17272 17297 17337 17393 17399 17434\n",
      " 17448 17485 17489 17521 17562 17606 17607 17642 17694 17723 17756 17778\n",
      " 17788 17798 17897 17945 17973 17986 17987 18028 18042 18104 18236 18265\n",
      " 18278 18289 18306 18326 18338 18387 18398 18414 18434 18465 18470 18475\n",
      " 18489 18528 18598 18621 18689 18730 18733 18786 18793 18806 18840 18972\n",
      " 19041 19058 19070 19077 19110 19121 19122 19184 19256 19306 19337 19363\n",
      " 19376 19379 19412 19433 19453 19462 19471 19519 19629 19641 19679 19724\n",
      " 19739 19795 19847 19911 19915 19944 19996 20026 20047 20055 20057 20058\n",
      " 20099 20104 20123 20128 20270 20285 20297 20314 20331 20374 20425 20451\n",
      " 20455 20498 20558 20579 20588 20599 20620 20638 20721 20733 20815 20859\n",
      " 20970 21041 21058 21059 21079 21091 21098 21102 21119 21130 21159 21247\n",
      " 21261 21323 21336 21339 21346 21351 21362 21447 21478 21491 21525 21536\n",
      " 21541 21551 21562 21575 21597 21701 21706 21748 21775 21828 21833 21865\n",
      " 21901 21924 21941 21972 22027 22048 22088 22185 22192 22223 22230 22243\n",
      " 22260 22264 22288 22321 22382 22406 22438 22478 22515 22550 22566 22574\n",
      " 22647 22672 22682 22686 22698 22731 22815 22829 22872 22906 22927 22952\n",
      " 23017 23027 23033 23074 23080 23099 23120 23161 23229 23260 23283 23389\n",
      " 23393 23451 23489 23515 23532 23538 23550 23592 23593 23605 23620 23702\n",
      " 23712 23759 23786 23812 23832 23833 23882 23996 24040 24057 24063 24096\n",
      " 24190 24240 24245 24256 24258 24279 24309 24316 24348 24412 24420 24440\n",
      " 24441 24474 24518 24585 24617 24619 24639 24740 24742 24761 24820 24928\n",
      " 25038 25042 25063 25139 25215 25290 25323 25381 25386 25397 25404 25445\n",
      " 25454 25477 25508 25622 25696 25737 25786 25800 25812 25820 25839 25848\n",
      " 25887 25912 25913 25914 25927 25972 25986 25991 26007 26008 26043 26047\n",
      " 26070 26077 26104 26167 26192 26217 26270 26304 26346 26415 26420 26423\n",
      " 26431 26445 26491 26513 26537 26546 26561 26567 26590 26637 26642 26744\n",
      " 26753 26810 26826 26860 26861 26870 26880 26887 26901 27037 27127 27151\n",
      " 27194 27215 27275 27277 27283 27327 27329 27339 27387 27393 27396 27492\n",
      " 27550 27568 27599 27641 27643 27645 27694 27699 27954 27958 28082 28098\n",
      " 28142 28185 28195 28250 28342 28356 28409 28430 28464 28480 28483 28490\n",
      " 28527 28551 28563 28568 28586 28598 28612 28618 28633 28659 28669 28700\n",
      " 28772 28778 28812 28833 28843 28853 28855 28861]\n"
     ]
    },
    {
     "data": {
      "text/html": [
       "<div>\n",
       "<style scoped>\n",
       "    .dataframe tbody tr th:only-of-type {\n",
       "        vertical-align: middle;\n",
       "    }\n",
       "\n",
       "    .dataframe tbody tr th {\n",
       "        vertical-align: top;\n",
       "    }\n",
       "\n",
       "    .dataframe thead th {\n",
       "        text-align: right;\n",
       "    }\n",
       "</style>\n",
       "<table border=\"1\" class=\"dataframe\">\n",
       "  <thead>\n",
       "    <tr style=\"text-align: right;\">\n",
       "      <th></th>\n",
       "      <th>user_id</th>\n",
       "      <th>rec_id</th>\n",
       "      <th>original_action</th>\n",
       "      <th>time</th>\n",
       "      <th>reward</th>\n",
       "      <th>original_state</th>\n",
       "      <th>cell_id</th>\n",
       "      <th>action</th>\n",
       "    </tr>\n",
       "  </thead>\n",
       "  <tbody>\n",
       "    <tr>\n",
       "      <th>0</th>\n",
       "      <td>7077</td>\n",
       "      <td>0</td>\n",
       "      <td>7906</td>\n",
       "      <td>58.834560</td>\n",
       "      <td>0.0</td>\n",
       "      <td></td>\n",
       "      <td>1</td>\n",
       "      <td>248</td>\n",
       "    </tr>\n",
       "    <tr>\n",
       "      <th>1</th>\n",
       "      <td>7077</td>\n",
       "      <td>0</td>\n",
       "      <td>7906</td>\n",
       "      <td>58.834595</td>\n",
       "      <td>0.0</td>\n",
       "      <td></td>\n",
       "      <td>1</td>\n",
       "      <td>248</td>\n",
       "    </tr>\n",
       "    <tr>\n",
       "      <th>2</th>\n",
       "      <td>7077</td>\n",
       "      <td>0</td>\n",
       "      <td>7906</td>\n",
       "      <td>58.836842</td>\n",
       "      <td>0.0</td>\n",
       "      <td></td>\n",
       "      <td>1</td>\n",
       "      <td>248</td>\n",
       "    </tr>\n",
       "    <tr>\n",
       "      <th>3</th>\n",
       "      <td>40907</td>\n",
       "      <td>1</td>\n",
       "      <td>7906</td>\n",
       "      <td>37.302547</td>\n",
       "      <td>0.0</td>\n",
       "      <td></td>\n",
       "      <td>1</td>\n",
       "      <td>248</td>\n",
       "    </tr>\n",
       "    <tr>\n",
       "      <th>4</th>\n",
       "      <td>40157</td>\n",
       "      <td>0</td>\n",
       "      <td>7906</td>\n",
       "      <td>27.222059</td>\n",
       "      <td>1.0</td>\n",
       "      <td></td>\n",
       "      <td>1</td>\n",
       "      <td>248</td>\n",
       "    </tr>\n",
       "    <tr>\n",
       "      <th>...</th>\n",
       "      <td>...</td>\n",
       "      <td>...</td>\n",
       "      <td>...</td>\n",
       "      <td>...</td>\n",
       "      <td>...</td>\n",
       "      <td>...</td>\n",
       "      <td>...</td>\n",
       "      <td>...</td>\n",
       "    </tr>\n",
       "    <tr>\n",
       "      <th>21146547</th>\n",
       "      <td>35202</td>\n",
       "      <td>2</td>\n",
       "      <td>5019</td>\n",
       "      <td>5.402604</td>\n",
       "      <td>0.0</td>\n",
       "      <td></td>\n",
       "      <td>1</td>\n",
       "      <td>165</td>\n",
       "    </tr>\n",
       "    <tr>\n",
       "      <th>21146548</th>\n",
       "      <td>35202</td>\n",
       "      <td>1</td>\n",
       "      <td>5019</td>\n",
       "      <td>8.412176</td>\n",
       "      <td>0.0</td>\n",
       "      <td></td>\n",
       "      <td>1</td>\n",
       "      <td>165</td>\n",
       "    </tr>\n",
       "    <tr>\n",
       "      <th>21146549</th>\n",
       "      <td>40043</td>\n",
       "      <td>2</td>\n",
       "      <td>5019</td>\n",
       "      <td>87.481079</td>\n",
       "      <td>0.0</td>\n",
       "      <td></td>\n",
       "      <td>1</td>\n",
       "      <td>165</td>\n",
       "    </tr>\n",
       "    <tr>\n",
       "      <th>21146550</th>\n",
       "      <td>40053</td>\n",
       "      <td>2</td>\n",
       "      <td>5019</td>\n",
       "      <td>23.648912</td>\n",
       "      <td>0.0</td>\n",
       "      <td></td>\n",
       "      <td>1</td>\n",
       "      <td>165</td>\n",
       "    </tr>\n",
       "    <tr>\n",
       "      <th>21146551</th>\n",
       "      <td>41357</td>\n",
       "      <td>2</td>\n",
       "      <td>5019</td>\n",
       "      <td>84.986710</td>\n",
       "      <td>0.0</td>\n",
       "      <td></td>\n",
       "      <td>1</td>\n",
       "      <td>165</td>\n",
       "    </tr>\n",
       "  </tbody>\n",
       "</table>\n",
       "<p>21146552 rows × 8 columns</p>\n",
       "</div>"
      ],
      "text/plain": [
       "          user_id  rec_id  original_action       time  reward original_state  \\\n",
       "0            7077       0             7906  58.834560     0.0                  \n",
       "1            7077       0             7906  58.834595     0.0                  \n",
       "2            7077       0             7906  58.836842     0.0                  \n",
       "3           40907       1             7906  37.302547     0.0                  \n",
       "4           40157       0             7906  27.222059     1.0                  \n",
       "...           ...     ...              ...        ...     ...            ...   \n",
       "21146547    35202       2             5019   5.402604     0.0                  \n",
       "21146548    35202       1             5019   8.412176     0.0                  \n",
       "21146549    40043       2             5019  87.481079     0.0                  \n",
       "21146550    40053       2             5019  23.648912     0.0                  \n",
       "21146551    41357       2             5019  84.986710     0.0                  \n",
       "\n",
       "          cell_id  action  \n",
       "0               1     248  \n",
       "1               1     248  \n",
       "2               1     248  \n",
       "3               1     248  \n",
       "4               1     248  \n",
       "...           ...     ...  \n",
       "21146547        1     165  \n",
       "21146548        1     165  \n",
       "21146549        1     165  \n",
       "21146550        1     165  \n",
       "21146551        1     165  \n",
       "\n",
       "[21146552 rows x 8 columns]"
      ]
     },
     "execution_count": 31,
     "metadata": {
      "nterop": {
       "id": "148"
      }
     },
     "output_type": "execute_result"
    }
   ],
   "source": [
    "# map original action to sequential actions:\n",
    "\n",
    "# step 1. build vocab and inverse vocab of action_id\n",
    "vocab = np.sort(df[df.original_action.isin(keep_actions)].original_action.unique())\n",
    "inv_vocab = -np.ones(vocab.max()+1, dtype='int64') # -1 means item id is out of set\n",
    "for i,v in enumerate(vocab):\n",
    "    inv_vocab[v] = i\n",
    "\n",
    "print('num nonzero values:',len(np.where(inv_vocab>=0)[0]))\n",
    "print('len vocab',len(vocab))\n",
    "print('new vocab',vocab)\n",
    "\n",
    "# now add a new column with the sequential action ids\n",
    "action_map = pd.DataFrame({'original_action':vocab, 'action':np.arange(len(vocab),dtype='int64')})\n",
    "\n",
    "X1 = pd.merge(df, action_map, how='inner', on='original_action')\n",
    "X1"
   ]
  },
  {
   "cell_type": "code",
   "execution_count": 32,
   "metadata": {
    "nterop": {
     "id": "53"
    }
   },
   "outputs": [],
   "source": [
    "# now add state representation column which is dynamic:\n",
    "\n",
    "def create_dynamic_states(X):\n",
    "    Xstream = X[X['reward']>0]\n",
    "    print('num. positive actions',Xstream.shape)\n",
    "    dynamic_states = [] # tracks user state changes, list of tuples [(user_id, time, state)]\n",
    "    format_state = lambda xs: ':'.join(map(str,xs))\n",
    "    for user_id,user_imp in X.groupby('user_id'):\n",
    "        current_state = []\n",
    "        ds = []\n",
    "        # iterate over streams that exist in impression data (if any) and update:\n",
    "        for name,imp in user_imp.sort_values('time')[['action','time','reward','rec_id']].iterrows():\n",
    "            title = int(imp[0])\n",
    "            time = imp[1]\n",
    "            reward = imp[2]\n",
    "            rec_id = int(imp[3])\n",
    "            ds.append((user_id, time, title, format_state(current_state), rec_id, reward))\n",
    "            current_state = current_state.copy()\n",
    "            if reward>0: current_state.append(title)\n",
    "        # only append dynamic states if there is a single stream for this user in the impressions\n",
    "        if len(current_state)>0:\n",
    "            dynamic_states += ds\n",
    "\n",
    "    users,times,titles,states,recids,rewards = zip(*dynamic_states)\n",
    "    return pd.DataFrame({'user_id':users, 'time':times, 'action':titles, 'state':states, 'rec_id':recids, 'reward':rewards})"
   ]
  },
  {
   "cell_type": "code",
   "execution_count": 34,
   "metadata": {
    "nterop": {
     "id": "55"
    }
   },
   "outputs": [
    {
     "name": "stdout",
     "output_type": "stream",
     "text": [
      "parallelizing across num. partitions 16\n",
      "num. positive actions (7334, 8)\n",
      "num. positive actions (6042, 8)\n",
      "num. positive actions (4347, 8)\n",
      "num. positive actions (3482, 8)\n",
      "num. positive actions (2709, 8)\n",
      "num. positive actions (2271, 8)\n",
      "num. positive actions (2523, 8)\n",
      "num. positive actions (2679, 8)\n",
      "num. positive actions (2338, 8)\n",
      "num. positive actions (2237, 8)\n",
      "num. positive actions (2046, 8)\n",
      "num. positive actions (944, 8)\n",
      "num. positive actions (216, 8)\n",
      "num. positive actions (443, 8)num. positive actions\n",
      " (963, 8)\n",
      "num. positive actions (2605, 8)\n"
     ]
    }
   ],
   "source": [
    "# parallelize across half as many cores because memory intensive:\n",
    "cores = max(1, int(int(os.environ['NUMEXPR_MAX_THREADS'])/2))\n",
    "# need to process each user state at the time of every impression, use parallelism to solve faster:\n",
    "Xdyn_ = utils.parallelize_fnc_groups(create_dynamic_states, X1, None, 'user_id', cores)"
   ]
  },
  {
   "cell_type": "code",
   "execution_count": 35,
   "metadata": {
    "nterop": {
     "id": "84"
    }
   },
   "outputs": [],
   "source": [
    "Xdyn_.to_csv(paths.cw_stages['intermediate_1'], compression='gzip')"
   ]
  },
  {
   "cell_type": "code",
   "execution_count": null,
   "metadata": {
    "nterop": {
     "id": "122"
    }
   },
   "outputs": [],
   "source": [
    "Xdyn_ = pd.read_csv(paths.cw_stages['intermediate_1'])"
   ]
  },
  {
   "cell_type": "code",
   "execution_count": 36,
   "metadata": {
    "nterop": {
     "id": "59"
    }
   },
   "outputs": [],
   "source": [
    "# annotate original dataset with Xdyn:\n",
    "X2 = pd.merge(X1, Xdyn_, on=['user_id','time','action'], how='left')"
   ]
  },
  {
   "cell_type": "code",
   "execution_count": 37,
   "metadata": {
    "nterop": {
     "id": "71"
    }
   },
   "outputs": [
    {
     "name": "stdout",
     "output_type": "stream",
     "text": [
      "n sesions per user over 1 hour apart 10.22\n"
     ]
    },
    {
     "data": {
      "image/png": "[encoded data removed]",
      "text/plain": [
       "<Figure size 432x288 with 1 Axes>"
      ]
     },
     "metadata": {
      "needs_background": "light",
      "nterop": {
       "id": "149"
      }
     },
     "output_type": "display_data"
    },
    {
     "data": {
      "image/png": "[encoded data removed]",
      "text/plain": [
       "<Figure size 432x288 with 1 Axes>"
      ]
     },
     "metadata": {
      "needs_background": "light",
      "nterop": {
       "id": "150"
      }
     },
     "output_type": "display_data"
    }
   ],
   "source": [
    "# look histogram of delta t between visits to decide whether further sessionization is needed:\n",
    "# take subset of 500 users, do on individual level:\n",
    "dt = []\n",
    "n_sessions = []\n",
    "n_sample_users = 100\n",
    "HOURS_IN_DAY = 24\n",
    "sub_users = np.random.choice(X1.user_id.unique(), n_sample_users)\n",
    "for u in sub_users:\n",
    "    t0 = X1[X1.user_id == u].sort_values('time').time.values\n",
    "    dt_ = HOURS_IN_DAY*(t0[1:] - t0[:-1])\n",
    "    n = len(np.unique(dt_[dt_>1.0]))\n",
    "    n_sessions.append(1+n)\n",
    "    dt += list(dt_[(dt_ > 0) & (dt_ < 1)])\n",
    "plt.hist(dt,bins=100)\n",
    "print('n sesions per user over 1 hour apart', sum(n_sessions)/n_sample_users)\n",
    "plt.figure()\n",
    "plt.hist(n_sessions,bins=100)\n",
    "pass"
   ]
  },
  {
   "cell_type": "code",
   "execution_count": 38,
   "metadata": {
    "nterop": {
     "id": "92"
    }
   },
   "outputs": [],
   "source": [
    "X3 = Xdyn_"
   ]
  },
  {
   "cell_type": "code",
   "execution_count": 39,
   "metadata": {
    "nterop": {
     "id": "95"
    }
   },
   "outputs": [],
   "source": [
    "# bucketize time into 30 min time slots:\n",
    "X3['round_time'] = np.round(X3.time*48)/48"
   ]
  },
  {
   "cell_type": "code",
   "execution_count": 40,
   "metadata": {
    "nterop": {
     "id": "96"
    }
   },
   "outputs": [],
   "source": [
    "Xus = X3.groupby('user_id')"
   ]
  },
  {
   "cell_type": "code",
   "execution_count": 41,
   "metadata": {
    "nterop": {
     "id": "97"
    }
   },
   "outputs": [],
   "source": [
    "session_count = Xus.apply(lambda g: g.groupby('round_time').ngroups)"
   ]
  },
  {
   "cell_type": "code",
   "execution_count": 42,
   "metadata": {
    "nterop": {
     "id": "98"
    }
   },
   "outputs": [
    {
     "data": {
      "image/png": "[encoded data removed]",
      "text/plain": [
       "<Figure size 432x288 with 1 Axes>"
      ]
     },
     "metadata": {
      "needs_background": "light",
      "nterop": {
       "id": "151"
      }
     },
     "output_type": "display_data"
    }
   ],
   "source": [
    "plt.hist(session_count, bins=100)\n",
    "plt.xlabel('number of sessions')\n",
    "plt.ylabel('frequency')\n",
    "pass"
   ]
  },
  {
   "cell_type": "code",
   "execution_count": 43,
   "metadata": {
    "nterop": {
     "id": "103"
    }
   },
   "outputs": [
    {
     "name": "stdout",
     "output_type": "stream",
     "text": [
      "proportion of users with less than 5 sessions 0.4334511189634865\n"
     ]
    }
   ],
   "source": [
    "print('proportion of users with less than 5 sessions', \n",
    "      session_count[session_count < 5].shape[0] / session_count.shape[0])"
   ]
  },
  {
   "cell_type": "code",
   "execution_count": 44,
   "metadata": {
    "nterop": {
     "id": "105"
    }
   },
   "outputs": [
    {
     "data": {
      "text/plain": [
       "Int64Index([   21,    38,    40,    89,    93,    99,   102,   104,   113,\n",
       "              142,\n",
       "            ...\n",
       "            42035, 42075, 42084, 42104, 42113, 42128, 42130, 42132, 42136,\n",
       "            42142],\n",
       "           dtype='int64', name='user_id', length=2405)"
      ]
     },
     "execution_count": 44,
     "metadata": {
      "nterop": {
       "id": "152"
      }
     },
     "output_type": "execute_result"
    }
   ],
   "source": [
    "# keep only those users with 5 or more sessions (discretized by 30 min slots)\n",
    "keep_users = session_count[session_count >= 5].index\n",
    "keep_users"
   ]
  },
  {
   "cell_type": "code",
   "execution_count": 45,
   "metadata": {
    "nterop": {
     "id": "107"
    }
   },
   "outputs": [],
   "source": [
    "X4 = X3[X3.user_id.isin(keep_users)]"
   ]
  },
  {
   "cell_type": "code",
   "execution_count": 46,
   "metadata": {
    "nterop": {
     "id": "80"
    }
   },
   "outputs": [],
   "source": [
    "# now split data into last 28 days test, train-validation-test 50-20-30, \n",
    "# remove users with no sessions in their respective quandrants\n",
    "\n",
    "def split_dataset(X_, prop_train = 0.7, prop_test = 0.3, TEST_TIME_DAYS = 28, seed = 0):\n",
    "    np.random.seed(seed)\n",
    "    \n",
    "    n_users = X_.user_id.nunique()\n",
    "    user_set = X_.user_id.unique()\n",
    "    \n",
    "    train_user_ids = np.random.choice(np.arange(n_users,dtype='int64'), int(n_users*prop_train), replace=False)\n",
    "    train_users = np.zeros(n_users, dtype='bool') #np.random.binomial(1, prop_train, size=n_users).astype('bool')\n",
    "    train_users[train_user_ids] = True\n",
    "    #val_users = (1-train_users)*np.random.binomial(1, prop_val/prop_train, size=n_users).astype('bool')\n",
    "    test_users = (1 - train_users).astype('bool')\n",
    "    \n",
    "    print('stats: prop train users, test users', train_users.sum()/n_users, test_users.sum()/n_users)\n",
    "    print('n_train_users',train_users.sum(), 'n_test_users',test_users.sum(), 'n_users', n_users)\n",
    "\n",
    "    # now split by time and save to disk:\n",
    "    max_time = X_.time.max()\n",
    "    min_time = X_.time.min()\n",
    "    assert np.abs(min_time) < 1e-8\n",
    "    test_time = max_time - TEST_TIME_DAYS\n",
    "    \n",
    "    X_train = X_[(X_.time < test_time) & (X_.user_id.isin(user_set[train_users]))]\n",
    "    X_val = X_[(X_.time < test_time) & (X_.user_id.isin(user_set[test_users]))]\n",
    "    X_test_seen_users = X_[(X_.time >= test_time) & (X_.user_id.isin(user_set[train_users]))]\n",
    "    X_test_unseen_users = X_[(X_.time >= test_time) & (X_.user_id.isin(user_set[test_users]))]\n",
    "    \n",
    "    N = X_.shape[0]\n",
    "    print('data sizes as proportion of all data:', 'X_train', X_train.shape[0]/N, 'X_val', X_val.shape[0]/N, \n",
    "         'X_test_seen_users', X_test_seen_users.shape[0]/N, 'X_test_unseen_users', X_test_unseen_users.shape[0]/N)\n",
    "    print('total imp check total', N, ': ', X_train.shape[0] + X_val.shape[0] + X_test_seen_users.shape[0] + X_test_unseen_users.shape[0])\n",
    "    return [X_train, X_val, X_test_seen_users, X_test_unseen_users]"
   ]
  },
  {
   "cell_type": "code",
   "execution_count": 49,
   "metadata": {
    "nterop": {
     "id": "111"
    }
   },
   "outputs": [
    {
     "name": "stdout",
     "output_type": "stream",
     "text": [
      "stats: prop train users, test users 0.6997920997920998 0.3002079002079002\n",
      "n_train_users 1683 n_test_users 722 n_users 2405\n",
      "data sizes as proportion of all data: X_train 0.5352452799169012 X_val 0.2520579176210208 X_test_seen_users 0.14834811103264545 X_test_unseen_users 0.0643486914294326\n",
      "total imp check total 16057980 :  16057980\n",
      "done.\n"
     ]
    }
   ],
   "source": [
    "# save final outputs of processing to split files:\n",
    "\n",
    "file_names = [paths.cw_stages['output']['train'],\n",
    "             paths.cw_stages['output']['validate'],\n",
    "             paths.cw_stages['output']['test-seen'],\n",
    "             paths.cw_stages['output']['test-unseen']]\n",
    "\n",
    "Xs = split_dataset(X4)\n",
    "\n",
    "for x,fn in zip(Xs, file_names):\n",
    "    x.to_csv(fn, compression='gzip')\n",
    "print('done.')"
   ]
  },
  {
   "cell_type": "code",
   "execution_count": 52,
   "metadata": {
    "nterop": {
     "id": "112"
    },
    "scrolled": false
   },
   "outputs": [
    {
     "name": "stdout",
     "output_type": "stream",
     "text": [
      "uid 113 \n",
      "       user_id       time  action state  rec_id  reward  round_time\n",
      "1016      113  51.490788     627             0     1.0   51.500000\n",
      "1552      113  52.480648     627   627       0     1.0   52.479167\n",
      "\n",
      "\n",
      "\n",
      "uid 2604 \n",
      "         user_id       time  action                        state  rec_id  \\\n",
      "210239     2604  23.503901     664                                    1   \n",
      "212289     2604  23.595798     664                          664       1   \n",
      "215139     2604  27.168600     242                      664:664       1   \n",
      "215516     2604  30.338091     879                  664:664:242       4   \n",
      "217690     2604  39.568565     865              664:664:242:879       2   \n",
      "219518     2604  79.594757     664          664:664:242:879:865       1   \n",
      "221109     2604  93.314064     664      664:664:242:879:865:664       1   \n",
      "223888     2604  93.378128     664  664:664:242:879:865:664:664       1   \n",
      "\n",
      "        reward  round_time  \n",
      "210239     1.0   23.500000  \n",
      "212289     1.0   23.604167  \n",
      "215139     1.0   27.166667  \n",
      "215516     1.0   30.333333  \n",
      "217690     1.0   39.562500  \n",
      "219518     1.0   79.604167  \n",
      "221109     1.0   93.312500  \n",
      "223888     1.0   93.375000  \n",
      "\n",
      "\n",
      "\n",
      "uid 19347 \n",
      "         user_id       time  action                           state  rec_id  \\\n",
      "794020    19347   0.317928      44                                       0   \n",
      "794543    19347   9.178588     615                              44       1   \n",
      "794625    19347   9.189016     453                          44:615       6   \n",
      "795023    19347   9.199768     527                      44:615:453       6   \n",
      "795666    19347   9.232002     395                  44:615:453:527       9   \n",
      "795851    19347  12.298704     807              44:615:453:527:395       4   \n",
      "796199    19347  23.636076     434          44:615:453:527:395:807       1   \n",
      "796773    19347  24.233391     197      44:615:453:527:395:807:434       9   \n",
      "797047    19347  27.164757     395  44:615:453:527:395:807:434:197       9   \n",
      "\n",
      "        reward  round_time  \n",
      "794020     1.0    0.312500  \n",
      "794543     1.0    9.187500  \n",
      "794625     1.0    9.187500  \n",
      "795023     1.0    9.208333  \n",
      "795666     1.0    9.229167  \n",
      "795851     1.0   12.291667  \n",
      "796199     1.0   23.645833  \n",
      "796773     1.0   24.229167  \n",
      "797047     1.0   27.166667  \n",
      "\n",
      "\n",
      "\n",
      "uid 2408 \n",
      "       user_id       time  action                        state  rec_id  reward  \\\n",
      "7212     2408   5.963438     735                                    0     1.0   \n",
      "7453     2408  19.024710     838                          735       0     1.0   \n",
      "7496     2408  22.047279     220                      735:838       0     1.0   \n",
      "7647     2408  23.458542     756                  735:838:220       0     1.0   \n",
      "7747     2408  33.988518     553              735:838:220:756       0     1.0   \n",
      "7816     2408  34.021992     735          735:838:220:756:553       0     1.0   \n",
      "8024     2408  34.024200     221      735:838:220:756:553:735       0     1.0   \n",
      "8188     2408  34.034443     340  735:838:220:756:553:735:221       1     1.0   \n",
      "\n",
      "      round_time  \n",
      "7212    5.958333  \n",
      "7453   19.020833  \n",
      "7496   22.041667  \n",
      "7647   23.458333  \n",
      "7747   33.979167  \n",
      "7816   34.020833  \n",
      "8024   34.020833  \n",
      "8188   34.041667  \n",
      "\n",
      "\n",
      "\n"
     ]
    }
   ],
   "source": [
    "# sanity check on state encoding: pick arbitrary users and see if their state matches their actions over time\n",
    "\n",
    "def display_hist(uids):\n",
    "    for uid in uids:\n",
    "        print('uid',uid,'\\n',X4[(X4.user_id == uid) & (X4.reward > 0)])\n",
    "        print('\\n\\n')\n",
    "    \n",
    "display_hist([113, 2604, 19347, 2408])"
   ]
  }
 ],
 "metadata": {
  "hide_input": false,
  "kernelspec": {
   "display_name": "Python 3 (ipykernel)",
   "language": "python",
   "name": "python3"
  },
  "language_info": {
   "codemirror_mode": {
    "name": "ipython",
    "version": 3
   },
   "file_extension": ".py",
   "mimetype": "text/x-python",
   "name": "python",
   "nbconvert_exporter": "python",
   "pygments_lexer": "ipython3",
   "version": "3.7.12"
  },
  "nterop": {
   "seedId": "152"
  }
 },
 "nbformat": 4,
 "nbformat_minor": 4
}
