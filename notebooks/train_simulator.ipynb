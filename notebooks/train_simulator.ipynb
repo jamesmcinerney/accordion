{
 "cells": [
  {
   "attachments": {},
   "cell_type": "markdown",
   "metadata": {
    "nterop": {
     "id": "455"
    }
   },
   "source": [
    "# Train Simulator\n",
    "\n",
    "Requires fitting three models:\n",
    "+ a user choice model\n",
    "+ a single or set of recommender models\n",
    "+ a user visit model"
   ]
  },
  {
   "cell_type": "code",
   "execution_count": 1,
   "metadata": {
    "nterop": {
     "id": "1"
    }
   },
   "outputs": [
    {
     "name": "stdout",
     "output_type": "stream",
     "text": [
      "/root/notebooks/accordion\n",
      "loaded sim_models\n"
     ]
    }
   ],
   "source": [
    "import paths\n",
    "%cd {paths.base}\n",
    "from os.path import join\n",
    "\n",
    "%load_ext autoreload\n",
    "%autoreload 2\n",
    "from simtrain import process_dat, sim_models, explore_models, utils\n",
    "from simtrain import SETTINGS_POLIMI as SETTINGS\n",
    "import numpy as np\n",
    "import pandas as pd\n",
    "%matplotlib inline\n",
    "from matplotlib import pyplot as plt\n",
    "import scipy\n",
    "from scipy import stats, sparse\n",
    "import shutil\n",
    "from datetime import datetime\n",
    "import os\n",
    "os.environ['NUMEXPR_MAX_THREADS'] = SETTINGS.NUMEXPR_MAX_THREADS"
   ]
  },
  {
   "cell_type": "code",
   "execution_count": 2,
   "metadata": {
    "nterop": {
     "id": "4"
    }
   },
   "outputs": [
    {
     "name": "stdout",
     "output_type": "stream",
     "text": [
      "{'ab_test_id': 'train', 'rec_model_cell_nbr': [1], 'user_model_cell_nbr': 1, 'visit_model_cell_nbr': 1}\n"
     ]
    }
   ],
   "source": [
    "print(SETTINGS.simulation_components)\n",
    "ab_test_id = SETTINGS.simulation_components['ab_test_id']\n",
    "input_data_path = join(paths.dat, SETTINGS.rootpaths['input'])\n",
    "full_data_path = join(input_data_path, SETTINGS.filepaths['impressions_data_test']) % ab_test_id\n",
    "subset_data_path = full_data_path + '_subset'\n",
    "\n",
    "cell_col = 'acnt.test_cell_nbr'\n",
    "cells = {'train':1,\n",
    "        'valid':2,\n",
    "        'test_seen_users':3,\n",
    "        'test_unseen_users':4}"
   ]
  },
  {
   "cell_type": "code",
   "execution_count": 3,
   "metadata": {
    "nterop": {
     "id": "5"
    },
    "scrolled": true
   },
   "outputs": [
    {
     "name": "stdout",
     "output_type": "stream",
     "text": [
      "settings {'NI': 920, 'NU': 1649, 'T': 69.97971343994139, 'NS': 100, 'INF_TIME': 1000}\n"
     ]
    },
    {
     "data": {
      "text/html": [
       "<div>\n",
       "<style scoped>\n",
       "    .dataframe tbody tr th:only-of-type {\n",
       "        vertical-align: middle;\n",
       "    }\n",
       "\n",
       "    .dataframe tbody tr th {\n",
       "        vertical-align: top;\n",
       "    }\n",
       "\n",
       "    .dataframe thead th {\n",
       "        text-align: right;\n",
       "    }\n",
       "</style>\n",
       "<table border=\"1\" class=\"dataframe\">\n",
       "  <thead>\n",
       "    <tr style=\"text-align: right;\">\n",
       "      <th></th>\n",
       "      <th>Unnamed: 0</th>\n",
       "      <th>user_id</th>\n",
       "      <th>time</th>\n",
       "      <th>action</th>\n",
       "      <th>state</th>\n",
       "      <th>rec_id</th>\n",
       "      <th>reward</th>\n",
       "      <th>round_time</th>\n",
       "    </tr>\n",
       "  </thead>\n",
       "  <tbody>\n",
       "    <tr>\n",
       "      <th>0</th>\n",
       "      <td>13630</td>\n",
       "      <td>535</td>\n",
       "      <td>12.156898</td>\n",
       "      <td>434</td>\n",
       "      <td></td>\n",
       "      <td>1</td>\n",
       "      <td>0.0</td>\n",
       "      <td>12.166667</td>\n",
       "    </tr>\n",
       "    <tr>\n",
       "      <th>1</th>\n",
       "      <td>13631</td>\n",
       "      <td>535</td>\n",
       "      <td>12.156898</td>\n",
       "      <td>789</td>\n",
       "      <td></td>\n",
       "      <td>0</td>\n",
       "      <td>0.0</td>\n",
       "      <td>12.166667</td>\n",
       "    </tr>\n",
       "    <tr>\n",
       "      <th>2</th>\n",
       "      <td>13632</td>\n",
       "      <td>535</td>\n",
       "      <td>12.156898</td>\n",
       "      <td>789</td>\n",
       "      <td></td>\n",
       "      <td>0</td>\n",
       "      <td>0.0</td>\n",
       "      <td>12.166667</td>\n",
       "    </tr>\n",
       "    <tr>\n",
       "      <th>3</th>\n",
       "      <td>13633</td>\n",
       "      <td>535</td>\n",
       "      <td>12.156898</td>\n",
       "      <td>407</td>\n",
       "      <td></td>\n",
       "      <td>0</td>\n",
       "      <td>0.0</td>\n",
       "      <td>12.166667</td>\n",
       "    </tr>\n",
       "    <tr>\n",
       "      <th>4</th>\n",
       "      <td>13634</td>\n",
       "      <td>535</td>\n",
       "      <td>12.156898</td>\n",
       "      <td>407</td>\n",
       "      <td></td>\n",
       "      <td>1</td>\n",
       "      <td>0.0</td>\n",
       "      <td>12.166667</td>\n",
       "    </tr>\n",
       "    <tr>\n",
       "      <th>...</th>\n",
       "      <td>...</td>\n",
       "      <td>...</td>\n",
       "      <td>...</td>\n",
       "      <td>...</td>\n",
       "      <td>...</td>\n",
       "      <td>...</td>\n",
       "      <td>...</td>\n",
       "      <td>...</td>\n",
       "    </tr>\n",
       "    <tr>\n",
       "      <th>8594953</th>\n",
       "      <td>31540</td>\n",
       "      <td>41536</td>\n",
       "      <td>64.452988</td>\n",
       "      <td>870</td>\n",
       "      <td>773:773:773:773:373:773</td>\n",
       "      <td>0</td>\n",
       "      <td>0.0</td>\n",
       "      <td>64.458333</td>\n",
       "    </tr>\n",
       "    <tr>\n",
       "      <th>8594954</th>\n",
       "      <td>31541</td>\n",
       "      <td>41536</td>\n",
       "      <td>64.452988</td>\n",
       "      <td>309</td>\n",
       "      <td>773:773:773:773:373:773</td>\n",
       "      <td>0</td>\n",
       "      <td>0.0</td>\n",
       "      <td>64.458333</td>\n",
       "    </tr>\n",
       "    <tr>\n",
       "      <th>8594955</th>\n",
       "      <td>31542</td>\n",
       "      <td>41536</td>\n",
       "      <td>64.452988</td>\n",
       "      <td>442</td>\n",
       "      <td>773:773:773:773:373:773</td>\n",
       "      <td>0</td>\n",
       "      <td>0.0</td>\n",
       "      <td>64.458333</td>\n",
       "    </tr>\n",
       "    <tr>\n",
       "      <th>8594956</th>\n",
       "      <td>31543</td>\n",
       "      <td>41536</td>\n",
       "      <td>64.452988</td>\n",
       "      <td>616</td>\n",
       "      <td>773:773:773:773:373:773</td>\n",
       "      <td>0</td>\n",
       "      <td>0.0</td>\n",
       "      <td>64.458333</td>\n",
       "    </tr>\n",
       "    <tr>\n",
       "      <th>8594957</th>\n",
       "      <td>31544</td>\n",
       "      <td>41536</td>\n",
       "      <td>64.452988</td>\n",
       "      <td>416</td>\n",
       "      <td>773:773:773:773:373:773</td>\n",
       "      <td>0</td>\n",
       "      <td>0.0</td>\n",
       "      <td>64.458333</td>\n",
       "    </tr>\n",
       "  </tbody>\n",
       "</table>\n",
       "<p>8594958 rows × 8 columns</p>\n",
       "</div>"
      ],
      "text/plain": [
       "         Unnamed: 0  user_id       time  action                    state  \\\n",
       "0             13630      535  12.156898     434                            \n",
       "1             13631      535  12.156898     789                            \n",
       "2             13632      535  12.156898     789                            \n",
       "3             13633      535  12.156898     407                            \n",
       "4             13634      535  12.156898     407                            \n",
       "...             ...      ...        ...     ...                      ...   \n",
       "8594953       31540    41536  64.452988     870  773:773:773:773:373:773   \n",
       "8594954       31541    41536  64.452988     309  773:773:773:773:373:773   \n",
       "8594955       31542    41536  64.452988     442  773:773:773:773:373:773   \n",
       "8594956       31543    41536  64.452988     616  773:773:773:773:373:773   \n",
       "8594957       31544    41536  64.452988     416  773:773:773:773:373:773   \n",
       "\n",
       "         rec_id  reward  round_time  \n",
       "0             1     0.0   12.166667  \n",
       "1             0     0.0   12.166667  \n",
       "2             0     0.0   12.166667  \n",
       "3             0     0.0   12.166667  \n",
       "4             1     0.0   12.166667  \n",
       "...         ...     ...         ...  \n",
       "8594953       0     0.0   64.458333  \n",
       "8594954       0     0.0   64.458333  \n",
       "8594955       0     0.0   64.458333  \n",
       "8594956       0     0.0   64.458333  \n",
       "8594957       0     0.0   64.458333  \n",
       "\n",
       "[8594958 rows x 8 columns]"
      ]
     },
     "execution_count": 3,
     "metadata": {
      "nterop": {
       "id": "465"
      }
     },
     "output_type": "execute_result"
    }
   ],
   "source": [
    "train_dat, stg = process_dat.load_dat(paths.cw_stages['output']['train'])\n",
    "print('settings',stg)\n",
    "train_dat"
   ]
  },
  {
   "cell_type": "code",
   "execution_count": 4,
   "metadata": {
    "nterop": {
     "id": "232"
    }
   },
   "outputs": [],
   "source": [
    "validation_dat, _ = process_dat.load_dat(paths.cw_stages['output']['validate'])\n",
    "test_seen_users_dat, _ = process_dat.load_dat(paths.cw_stages['output']['test-seen'])\n",
    "test_unseen_users_dat, _ = process_dat.load_dat(paths.cw_stages['output']['test-unseen'])"
   ]
  },
  {
   "cell_type": "code",
   "execution_count": 5,
   "metadata": {
    "nterop": {
     "id": "233"
    }
   },
   "outputs": [],
   "source": [
    "# combine all into one dataframe with new column indicating \"cell\", i.e. train = 1, validate = 2, test seen = 3, test unseen = 4\n",
    "train_dat[cell_col] = cells['train']\n",
    "validation_dat[cell_col] = cells['valid']\n",
    "test_seen_users_dat[cell_col] = cells['test_seen_users']\n",
    "test_unseen_users_dat[cell_col] = cells['test_unseen_users']\n",
    "all_dat = pd.concat([train_dat, validation_dat, test_seen_users_dat, test_unseen_users_dat], ignore_index = True)\n",
    "simulation = all_dat"
   ]
  },
  {
   "cell_type": "code",
   "execution_count": 6,
   "metadata": {
    "nterop": {
     "id": "234"
    }
   },
   "outputs": [
    {
     "name": "stdout",
     "output_type": "stream",
     "text": [
      "settings {'NI': 920, 'NU': 2405, 'T': 97.99787902832031, 'NS': 100, 'INF_TIME': 1000}\n"
     ]
    }
   ],
   "source": [
    "# finally calculate settings dict from all data:\n",
    "stg = process_dat.get_settings(all_dat)\n",
    "print('settings',stg)"
   ]
  },
  {
   "cell_type": "code",
   "execution_count": 7,
   "metadata": {
    "nterop": {
     "id": "7"
    }
   },
   "outputs": [
    {
     "name": "stdout",
     "output_type": "stream",
     "text": [
      "summary stats of data splits:\n",
      "cell 1: 8594958 impressions\n",
      "cell 2: 4047541 impressions\n",
      "cell 3: 2382171 impressions\n",
      "cell 4: 1033310 impressions\n"
     ]
    }
   ],
   "source": [
    "print('summary stats of data splits:')\n",
    "for i in range(1,5):\n",
    "    print('cell %i:' % i, all_dat[all_dat['acnt.test_cell_nbr']==i].time.count(), 'impressions')"
   ]
  },
  {
   "cell_type": "code",
   "execution_count": 8,
   "metadata": {
    "nterop": {
     "id": "9"
    }
   },
   "outputs": [
    {
     "name": "stdout",
     "output_type": "stream",
     "text": [
      "num users in cell 1: 1649\n",
      "num users in cell 2: 698\n",
      "num users in cell 3: 1247\n",
      "num users in cell 4: 534\n"
     ]
    }
   ],
   "source": [
    "# num users in each cell\n",
    "for i in range(1,5):\n",
    "    print('num users in cell %i:' % i,simulation[simulation['acnt.test_cell_nbr']==i].user_id.nunique())"
   ]
  },
  {
   "cell_type": "code",
   "execution_count": 9,
   "metadata": {
    "nterop": {
     "id": "304"
    }
   },
   "outputs": [],
   "source": [
    "# create subset of data for hyperparameter selection:\n",
    "np.random.seed(87)\n",
    "hyp_sub_sim = simulation.sample(n=10000000)"
   ]
  },
  {
   "cell_type": "code",
   "execution_count": 3,
   "metadata": {
    "nterop": {
     "id": "275"
    }
   },
   "outputs": [],
   "source": [
    "intermediate_path = paths.cw_stages['output']['alldat']\n",
    "hyp_subset_path = paths.cw_stages['output']['hypsubset']"
   ]
  },
  {
   "cell_type": "code",
   "execution_count": 11,
   "metadata": {
    "nterop": {
     "id": "338"
    },
    "scrolled": true
   },
   "outputs": [],
   "source": [
    "all_dat.reset_index(drop=True).to_csv(intermediate_path, index=False)\n",
    "hyp_sub_sim.reset_index(drop=True).to_csv(hyp_subset_path, index=False)"
   ]
  },
  {
   "cell_type": "code",
   "execution_count": 4,
   "metadata": {
    "nterop": {
     "id": "339"
    }
   },
   "outputs": [],
   "source": [
    "all_dat,_ = process_dat.load_dat(intermediate_path)\n",
    "hyp_sub_sim,_ = process_dat.load_dat(hyp_subset_path)\n",
    "stg = process_dat.get_settings(all_dat)"
   ]
  },
  {
   "cell_type": "code",
   "execution_count": 5,
   "metadata": {
    "nterop": {
     "id": "10"
    }
   },
   "outputs": [],
   "source": [
    "# take a subset of users in each cell:\n",
    "subset_usr_slice_1 = all_dat[all_dat['acnt.test_cell_nbr']==1].user_id.sample(n=100)\n",
    "sub_sim = all_dat[all_dat['user_id'].isin(subset_usr_slice_1)].reset_index(drop=True)"
   ]
  },
  {
   "attachments": {},
   "cell_type": "markdown",
   "metadata": {
    "nterop": {
     "id": "13"
    }
   },
   "source": [
    "### Fit Models to Minimize Sim2Real Gap\n",
    "and save to disk"
   ]
  },
  {
   "attachments": {},
   "cell_type": "markdown",
   "metadata": {
    "nterop": {
     "id": "305"
    }
   },
   "source": [
    "### Rec model hyperparameter selection\n",
    "\n",
    "hyperparameters to select over:\n",
    "+ n_nodes per first layer = [500, 1000, 2000]\n",
    "+ n_nodes per second layer = [0, 100, 500]\n",
    "+ alpha for popularity attenuation = [0., 0.05, 0.1, 0.2]\n",
    "\n",
    "strategy:\n",
    "+ select architecture, pick one that minimizes loss on validation data\n",
    "+ then select alpha based on min loss on validation data"
   ]
  },
  {
   "cell_type": "code",
   "execution_count": 17,
   "metadata": {
    "nterop": {
     "id": "306"
    }
   },
   "outputs": [
    {
     "data": {
      "text/plain": [
       "Text(0, 0.5, 'weight adjustment')"
      ]
     },
     "execution_count": 17,
     "metadata": {
      "nterop": {
       "id": "458"
      }
     },
     "output_type": "execute_result"
    },
    {
     "data": {
      "image/png": "[encoded data removed]",
      "text/plain": [
       "<Figure size 432x288 with 1 Axes>"
      ]
     },
     "metadata": {
      "needs_background": "light",
      "nterop": {
       "id": "459"
      }
     },
     "output_type": "display_data"
    }
   ],
   "source": [
    "hyp_dat_ac = hyp_sub_sim.groupby('action').action.count()\n",
    "pr_item = hyp_dat_ac / hyp_sub_sim.shape[0]\n",
    "weights = 1/(pr_item**0.1)\n",
    "weight_df = weights.to_frame().rename(columns={'action':'weight'})\n",
    "ys = weights.values\n",
    "plt.scatter(pr_item, ys)\n",
    "plt.xlabel('pr item per impression')\n",
    "plt.ylabel('weight adjustment')"
   ]
  },
  {
   "cell_type": "code",
   "execution_count": 18,
   "metadata": {
    "nterop": {
     "id": "309"
    }
   },
   "outputs": [
    {
     "name": "stdout",
     "output_type": "stream",
     "text": [
      "n train points 1000000\n",
      "updating with hp {'n_hidden_layers': 1, 'n_nodes': [500]}\n",
      "training with hyp {'dropout_rate': 0.15, 'n_hidden_layers': 1, 'n_nodes': [500], 'hidden_activation': 'relu', 'max_epoch': 1, 'min_delta': 0.01, 'batch_size': 2048, 'train_ips': False, 'time_slots_per_day': 1.0, 'popularity_alpha': 0}\n",
      "\t decoding state:\n",
      "stats of sparse matrix 0 999999 0 919 1000000 920\n",
      "\t one-hot encoding actions:\n"
     ]
    },
    {
     "name": "stderr",
     "output_type": "stream",
     "text": [
      "/apps/python3/lib/python3.7/site-packages/tensorflow/python/keras/engine/training.py:1839: UserWarning: `Model.fit_generator` is deprecated and will be removed in a future version. Please use `Model.fit`, which supports generators.\n",
      "  warnings.warn('`Model.fit_generator` is deprecated and '\n"
     ]
    },
    {
     "name": "stdout",
     "output_type": "stream",
     "text": [
      "489/489 [==============================] - 19s 38ms/step - loss: 6.8220 - accuracy: 0.0070\n",
      "updating with hp {'n_hidden_layers': 1, 'n_nodes': [1000]}\n",
      "training with hyp {'dropout_rate': 0.15, 'n_hidden_layers': 1, 'n_nodes': [1000], 'hidden_activation': 'relu', 'max_epoch': 1, 'min_delta': 0.01, 'batch_size': 2048, 'train_ips': False, 'time_slots_per_day': 1.0, 'popularity_alpha': 0}\n",
      "\t decoding state:\n",
      "stats of sparse matrix 0 999999 0 919 1000000 920\n",
      "\t one-hot encoding actions:\n",
      "489/489 [==============================] - 28s 56ms/step - loss: 6.8215 - accuracy: 0.0076\n",
      "updating with hp {'n_hidden_layers': 1, 'n_nodes': [2000]}\n",
      "training with hyp {'dropout_rate': 0.15, 'n_hidden_layers': 1, 'n_nodes': [2000], 'hidden_activation': 'relu', 'max_epoch': 1, 'min_delta': 0.01, 'batch_size': 2048, 'train_ips': False, 'time_slots_per_day': 1.0, 'popularity_alpha': 0}\n",
      "\t decoding state:\n",
      "stats of sparse matrix 0 999999 0 919 1000000 920\n",
      "\t one-hot encoding actions:\n",
      "489/489 [==============================] - 47s 95ms/step - loss: 6.8216 - accuracy: 0.0092\n",
      "updating with hp {'n_hidden_layers': 2, 'n_nodes': [500, 100]}\n",
      "training with hyp {'dropout_rate': 0.15, 'n_hidden_layers': 2, 'n_nodes': [500, 100], 'hidden_activation': 'relu', 'max_epoch': 1, 'min_delta': 0.01, 'batch_size': 2048, 'train_ips': False, 'time_slots_per_day': 1.0, 'popularity_alpha': 0}\n",
      "\t decoding state:\n",
      "stats of sparse matrix 0 999999 0 919 1000000 920\n",
      "\t one-hot encoding actions:\n",
      "489/489 [==============================] - 16s 32ms/step - loss: 6.8225 - accuracy: 0.0097\n",
      "updating with hp {'n_hidden_layers': 2, 'n_nodes': [500, 500]}\n",
      "training with hyp {'dropout_rate': 0.15, 'n_hidden_layers': 2, 'n_nodes': [500, 500], 'hidden_activation': 'relu', 'max_epoch': 1, 'min_delta': 0.01, 'batch_size': 2048, 'train_ips': False, 'time_slots_per_day': 1.0, 'popularity_alpha': 0}\n",
      "\t decoding state:\n",
      "stats of sparse matrix 0 999999 0 919 1000000 920\n",
      "\t one-hot encoding actions:\n",
      "489/489 [==============================] - 24s 47ms/step - loss: 6.8219 - accuracy: 0.0087\n",
      "updating with hp {'n_hidden_layers': 2, 'n_nodes': [1000, 100]}\n",
      "training with hyp {'dropout_rate': 0.15, 'n_hidden_layers': 2, 'n_nodes': [1000, 100], 'hidden_activation': 'relu', 'max_epoch': 1, 'min_delta': 0.01, 'batch_size': 2048, 'train_ips': False, 'time_slots_per_day': 1.0, 'popularity_alpha': 0}\n",
      "\t decoding state:\n",
      "stats of sparse matrix 0 999999 0 919 1000000 920\n",
      "\t one-hot encoding actions:\n",
      "489/489 [==============================] - 21s 42ms/step - loss: 6.8227 - accuracy: 0.0106\n",
      "updating with hp {'n_hidden_layers': 2, 'n_nodes': [1000, 500]}\n",
      "training with hyp {'dropout_rate': 0.15, 'n_hidden_layers': 2, 'n_nodes': [1000, 500], 'hidden_activation': 'relu', 'max_epoch': 1, 'min_delta': 0.01, 'batch_size': 2048, 'train_ips': False, 'time_slots_per_day': 1.0, 'popularity_alpha': 0}\n",
      "\t decoding state:\n",
      "stats of sparse matrix 0 999999 0 919 1000000 920\n",
      "\t one-hot encoding actions:\n",
      "489/489 [==============================] - 30s 62ms/step - loss: 6.8216 - accuracy: 0.0104\n",
      "updating with hp {'n_hidden_layers': 2, 'n_nodes': [2000, 500]}\n",
      "training with hyp {'dropout_rate': 0.15, 'n_hidden_layers': 2, 'n_nodes': [2000, 500], 'hidden_activation': 'relu', 'max_epoch': 1, 'min_delta': 0.01, 'batch_size': 2048, 'train_ips': False, 'time_slots_per_day': 1.0, 'popularity_alpha': 0}\n",
      "\t decoding state:\n",
      "stats of sparse matrix 0 999999 0 919 1000000 920\n",
      "\t one-hot encoding actions:\n",
      "489/489 [==============================] - 46s 93ms/step - loss: 6.8217 - accuracy: 0.0096\n",
      "updating with hp {'popularity_alpha': 0.05, 'n_hidden_layers': 1, 'n_nodes': [1000]}\n",
      "training with hyp {'dropout_rate': 0.15, 'n_hidden_layers': 1, 'n_nodes': [1000], 'hidden_activation': 'relu', 'max_epoch': 1, 'min_delta': 0.01, 'batch_size': 2048, 'train_ips': False, 'time_slots_per_day': 1.0, 'popularity_alpha': 0.05}\n",
      "weights shape (1000000,)\n",
      "\t decoding state:\n",
      "stats of sparse matrix 0 999999 0 919 1000000 920\n",
      "\t one-hot encoding actions:\n"
     ]
    },
    {
     "name": "stderr",
     "output_type": "stream",
     "text": [
      "/apps/python3/lib/python3.7/site-packages/tensorflow/python/keras/engine/training.py:1839: UserWarning: `Model.fit_generator` is deprecated and will be removed in a future version. Please use `Model.fit`, which supports generators.\n",
      "  warnings.warn('`Model.fit_generator` is deprecated and '\n"
     ]
    },
    {
     "name": "stdout",
     "output_type": "stream",
     "text": [
      "489/489 [==============================] - 28s 57ms/step - loss: 9.0899 - accuracy: 0.0083\n",
      "updating with hp {'popularity_alpha': 0.1, 'n_hidden_layers': 1, 'n_nodes': [1000]}\n",
      "training with hyp {'dropout_rate': 0.15, 'n_hidden_layers': 1, 'n_nodes': [1000], 'hidden_activation': 'relu', 'max_epoch': 1, 'min_delta': 0.01, 'batch_size': 2048, 'train_ips': False, 'time_slots_per_day': 1.0, 'popularity_alpha': 0.1}\n",
      "weights shape (1000000,)\n",
      "\t decoding state:\n",
      "stats of sparse matrix 0 999999 0 919 1000000 920\n",
      "\t one-hot encoding actions:\n"
     ]
    },
    {
     "name": "stderr",
     "output_type": "stream",
     "text": [
      "/apps/python3/lib/python3.7/site-packages/tensorflow/python/keras/engine/training.py:1839: UserWarning: `Model.fit_generator` is deprecated and will be removed in a future version. Please use `Model.fit`, which supports generators.\n",
      "  warnings.warn('`Model.fit_generator` is deprecated and '\n"
     ]
    },
    {
     "name": "stdout",
     "output_type": "stream",
     "text": [
      "489/489 [==============================] - 28s 57ms/step - loss: 12.1676 - accuracy: 0.0109\n",
      "updating with hp {'popularity_alpha': 0.2, 'n_hidden_layers': 1, 'n_nodes': [1000]}\n",
      "training with hyp {'dropout_rate': 0.15, 'n_hidden_layers': 1, 'n_nodes': [1000], 'hidden_activation': 'relu', 'max_epoch': 1, 'min_delta': 0.01, 'batch_size': 2048, 'train_ips': False, 'time_slots_per_day': 1.0, 'popularity_alpha': 0.2}\n",
      "weights shape (1000000,)\n",
      "\t decoding state:\n",
      "stats of sparse matrix 0 999999 0 919 1000000 920\n",
      "\t one-hot encoding actions:\n"
     ]
    },
    {
     "name": "stderr",
     "output_type": "stream",
     "text": [
      "/apps/python3/lib/python3.7/site-packages/tensorflow/python/keras/engine/training.py:1839: UserWarning: `Model.fit_generator` is deprecated and will be removed in a future version. Please use `Model.fit`, which supports generators.\n",
      "  warnings.warn('`Model.fit_generator` is deprecated and '\n"
     ]
    },
    {
     "name": "stdout",
     "output_type": "stream",
     "text": [
      "489/489 [==============================] - 28s 57ms/step - loss: 22.0964 - accuracy: 0.0121\n"
     ]
    }
   ],
   "source": [
    "# define hyp configuration as operation on the hyp dict:\n",
    "rec_hyp_points = [{'n_hidden_layers':1, 'n_nodes':[500]},\n",
    "                  {'n_hidden_layers':1, 'n_nodes':[1000]},\n",
    "                  {'n_hidden_layers':1, 'n_nodes':[2000]},\n",
    "                  {'n_hidden_layers':2, 'n_nodes':[500,100]},\n",
    "                  {'n_hidden_layers':2, 'n_nodes':[500,500]},\n",
    "                  {'n_hidden_layers':2, 'n_nodes':[1000,100]},\n",
    "                  {'n_hidden_layers':2, 'n_nodes':[1000,500]},\n",
    "                  {'n_hidden_layers':2, 'n_nodes':[2000,500]},\n",
    "                  {'popularity_alpha':0.05, 'n_hidden_layers':1, 'n_nodes':[1000]},\n",
    "                  {'popularity_alpha':0.1, 'n_hidden_layers':1, 'n_nodes':[1000]},\n",
    "                  {'popularity_alpha':0.2, 'n_hidden_layers':1, 'n_nodes':[1000]}]\n",
    "\n",
    "# define settings global to all experiments in hyp selection:\n",
    "rec_hyp_global =  {'dropout_rate': 0.15, \n",
    "                      'hidden_activation': 'relu',\n",
    "                      'max_epoch': 1,\n",
    "                      'min_delta': 0.01, \n",
    "                      'batch_size':2048,\n",
    "                      'train_ips': False,\n",
    "                       'popularity_alpha':0\n",
    "                    }\n",
    "\n",
    "def train_hyp_rec(dat, stg, hyp, hyp_points, global_hyp, seed=84):\n",
    "    np.random.seed(seed)\n",
    "    train_rows = (dat['acnt.test_cell_nbr']==cells['train'])\n",
    "    rec_train = dat[train_rows].sample(n=1000000)\n",
    "    print('n train points', rec_train.shape[0])\n",
    "    \n",
    "    retval = [] # of form (model, all_hyp, delta_hyp)\n",
    "    \n",
    "    # define action popularity:\n",
    "    dat_ac = dat.groupby('action').action.count()\n",
    "    pr_item = dat_ac / dat.shape[0]\n",
    "    weight_df = pr_item.to_frame().rename(columns={'action':'pr_item'})\n",
    "    \n",
    "    for hp in hyp_points:\n",
    "        # update local copy of hyp:\n",
    "        local_hyp = hyp.copy()\n",
    "        print('updating with hp',hp)\n",
    "        local_hyp.update(global_hyp)\n",
    "        local_hyp.update(hp)\n",
    "        print('training with hyp',local_hyp)\n",
    "        \n",
    "        # define weights:\n",
    "        pop_alpha = local_hyp['popularity_alpha']\n",
    "        if  pop_alpha > 0:\n",
    "            weight_df['weight'] = 1/(weight_df.pr_item.values**pop_alpha)\n",
    "            weights = rec_train.merge(weight_df, how='inner', on='action').weight\n",
    "            print('weights shape',weights.shape)\n",
    "        else:\n",
    "            weights = np.ones(rec_train.shape[0])\n",
    "\n",
    "        \n",
    "        # define which cells to train on\n",
    "        rec_cells = SETTINGS.simulation_components['rec_model_cell_nbr']\n",
    "        NR = len(rec_cells)\n",
    "        \n",
    "        # train model\n",
    "        rec_model = sim_models.RecModel(stg['NI'], stg['NI'], local_hyp)\n",
    "        rec_model.fit(rec_train, stg['NI'], W_=weights[:,np.newaxis])\n",
    "\n",
    "        retval.append((rec_model, local_hyp, hp))\n",
    "    \n",
    "    return retval\n",
    "\n",
    "rec_models = train_hyp_rec(hyp_sub_sim, stg, SETTINGS.hyp['rec_model_hyp'], rec_hyp_points, rec_hyp_global)"
   ]
  },
  {
   "cell_type": "code",
   "execution_count": 19,
   "metadata": {
    "nterop": {
     "id": "344"
    }
   },
   "outputs": [
    {
     "name": "stdout",
     "output_type": "stream",
     "text": [
      "saving to target path /root/notebooks/accordion/dat/rec_hyp_select/rec_model_n_hidden_layers-1_n_nodes-[500]\n",
      "INFO:tensorflow:Assets written to: /root/notebooks/accordion/dat/rec_hyp_select/rec_model_n_hidden_layers-1_n_nodes-[500]/assets\n",
      "saving to target path /root/notebooks/accordion/dat/rec_hyp_select/rec_model_n_hidden_layers-1_n_nodes-[1000]\n",
      "INFO:tensorflow:Assets written to: /root/notebooks/accordion/dat/rec_hyp_select/rec_model_n_hidden_layers-1_n_nodes-[1000]/assets\n",
      "saving to target path /root/notebooks/accordion/dat/rec_hyp_select/rec_model_n_hidden_layers-1_n_nodes-[2000]\n",
      "INFO:tensorflow:Assets written to: /root/notebooks/accordion/dat/rec_hyp_select/rec_model_n_hidden_layers-1_n_nodes-[2000]/assets\n",
      "saving to target path /root/notebooks/accordion/dat/rec_hyp_select/rec_model_n_hidden_layers-2_n_nodes-[500, 100]\n",
      "INFO:tensorflow:Assets written to: /root/notebooks/accordion/dat/rec_hyp_select/rec_model_n_hidden_layers-2_n_nodes-[500, 100]/assets\n",
      "saving to target path /root/notebooks/accordion/dat/rec_hyp_select/rec_model_n_hidden_layers-2_n_nodes-[500, 500]\n",
      "INFO:tensorflow:Assets written to: /root/notebooks/accordion/dat/rec_hyp_select/rec_model_n_hidden_layers-2_n_nodes-[500, 500]/assets\n",
      "saving to target path /root/notebooks/accordion/dat/rec_hyp_select/rec_model_n_hidden_layers-2_n_nodes-[1000, 100]\n",
      "INFO:tensorflow:Assets written to: /root/notebooks/accordion/dat/rec_hyp_select/rec_model_n_hidden_layers-2_n_nodes-[1000, 100]/assets\n",
      "saving to target path /root/notebooks/accordion/dat/rec_hyp_select/rec_model_n_hidden_layers-2_n_nodes-[1000, 500]\n",
      "INFO:tensorflow:Assets written to: /root/notebooks/accordion/dat/rec_hyp_select/rec_model_n_hidden_layers-2_n_nodes-[1000, 500]/assets\n",
      "saving to target path /root/notebooks/accordion/dat/rec_hyp_select/rec_model_n_hidden_layers-2_n_nodes-[2000, 500]\n",
      "INFO:tensorflow:Assets written to: /root/notebooks/accordion/dat/rec_hyp_select/rec_model_n_hidden_layers-2_n_nodes-[2000, 500]/assets\n",
      "saving to target path /root/notebooks/accordion/dat/rec_hyp_select/rec_model_popularity_alpha-0.05_n_hidden_layers-1_n_nodes-[1000]\n",
      "INFO:tensorflow:Assets written to: /root/notebooks/accordion/dat/rec_hyp_select/rec_model_popularity_alpha-0.05_n_hidden_layers-1_n_nodes-[1000]/assets\n",
      "saving to target path /root/notebooks/accordion/dat/rec_hyp_select/rec_model_popularity_alpha-0.1_n_hidden_layers-1_n_nodes-[1000]\n",
      "INFO:tensorflow:Assets written to: /root/notebooks/accordion/dat/rec_hyp_select/rec_model_popularity_alpha-0.1_n_hidden_layers-1_n_nodes-[1000]/assets\n",
      "saving to target path /root/notebooks/accordion/dat/rec_hyp_select/rec_model_popularity_alpha-0.2_n_hidden_layers-1_n_nodes-[1000]\n",
      "INFO:tensorflow:Assets written to: /root/notebooks/accordion/dat/rec_hyp_select/rec_model_popularity_alpha-0.2_n_hidden_layers-1_n_nodes-[1000]/assets\n",
      "done.\n"
     ]
    }
   ],
   "source": [
    "def save_hyp_rec_models(rec_models):\n",
    "    # define file format based on delta hyp:\n",
    "    hyp_ext = lambda delta_hyp: '_'.join([str(k)+'-'+str(v) for k,v in delta_hyp.items()])\n",
    "    \n",
    "    model_stem = join(paths.dat, SETTINGS.filepaths['rec_model_t_test'])\n",
    "    model_stem_dir = join(paths.dat, 'rec_hyp_select')\n",
    "    !mkdir {model_stem_dir}\n",
    "    \n",
    "    for (m,h,dh) in rec_models:\n",
    "        target_path = join(model_stem_dir, 'rec_model_' + hyp_ext(dh))\n",
    "        print('saving to target path',target_path)\n",
    "        m.save(target_path)\n",
    "    print('done.')\n",
    "    \n",
    "save_hyp_rec_models(rec_models)"
   ]
  },
  {
   "cell_type": "code",
   "execution_count": 70,
   "metadata": {
    "nterop": {
     "id": "310"
    }
   },
   "outputs": [
    {
     "name": "stdout",
     "output_type": "stream",
     "text": [
      "loaded sim_models\n"
     ]
    }
   ],
   "source": [
    "def eval_hyp_rec_models(dat, rec_models, stg, seed=78):\n",
    "    np.random.seed(seed)\n",
    "    validation_rows = (dat['acnt.test_cell_nbr']==cells['test'])\n",
    "    rec_val = dat[validation_rows].sample(n=500000,replace=False)\n",
    "    print('n rows in validation',rec_val.shape[0], 'n positive', rec_val[rec_val.reward>0].shape[0])\n",
    "    \n",
    "    retval = [] # of form (rec_model, all_hyp, delta_hyp, val_loss)\n",
    "    \n",
    "    is_feature_processed = False\n",
    "    for i,(m,h,dh) in enumerate(list(rec_models)):    \n",
    "        if not(is_feature_processed):\n",
    "            Sv, Av = m.process_features(rec_val, stg['NI'])\n",
    "            S = Sv.todense()\n",
    "            A = Av.todense()\n",
    "            is_feature_processed = True\n",
    "        loss,acc = m._model.evaluate(S, A)\n",
    "        print('delta_hyp',dh,'loss',loss)\n",
    "        retval.append((m,h,dh,loss))\n",
    "        \n",
    "    return retval\n",
    "        \n",
    "rec_models_loss = eval_hyp_rec_models(hyp_sub_sim, rec_models, stg)"
   ]
  },
  {
   "cell_type": "code",
   "execution_count": 23,
   "metadata": {
    "nterop": {
     "id": "311"
    }
   },
   "outputs": [
    {
     "data": {
      "text/plain": [
       "[(<simtrain.sim_models.RecModel at 0x7f24ccc55fd0>,\n",
       "  {'dropout_rate': 0.15,\n",
       "   'n_hidden_layers': 1,\n",
       "   'n_nodes': [500],\n",
       "   'hidden_activation': 'relu',\n",
       "   'max_epoch': 1,\n",
       "   'min_delta': 0.01,\n",
       "   'batch_size': 2048,\n",
       "   'train_ips': False,\n",
       "   'time_slots_per_day': 1.0,\n",
       "   'popularity_alpha': 0},\n",
       "  {'n_hidden_layers': 1, 'n_nodes': [500]},\n",
       "  6.816145356231689),\n",
       " (<simtrain.sim_models.RecModel at 0x7f24c7f18d50>,\n",
       "  {'dropout_rate': 0.15,\n",
       "   'n_hidden_layers': 1,\n",
       "   'n_nodes': [1000],\n",
       "   'hidden_activation': 'relu',\n",
       "   'max_epoch': 1,\n",
       "   'min_delta': 0.01,\n",
       "   'batch_size': 2048,\n",
       "   'train_ips': False,\n",
       "   'time_slots_per_day': 1.0,\n",
       "   'popularity_alpha': 0},\n",
       "  {'n_hidden_layers': 1, 'n_nodes': [1000]},\n",
       "  6.814847313171387),\n",
       " (<simtrain.sim_models.RecModel at 0x7f24c538c690>,\n",
       "  {'dropout_rate': 0.15,\n",
       "   'n_hidden_layers': 1,\n",
       "   'n_nodes': [2000],\n",
       "   'hidden_activation': 'relu',\n",
       "   'max_epoch': 1,\n",
       "   'min_delta': 0.01,\n",
       "   'batch_size': 2048,\n",
       "   'train_ips': False,\n",
       "   'time_slots_per_day': 1.0,\n",
       "   'popularity_alpha': 0},\n",
       "  {'n_hidden_layers': 1, 'n_nodes': [2000]},\n",
       "  6.81464353503418),\n",
       " (<simtrain.sim_models.RecModel at 0x7f24c5294750>,\n",
       "  {'dropout_rate': 0.15,\n",
       "   'n_hidden_layers': 2,\n",
       "   'n_nodes': [500, 100],\n",
       "   'hidden_activation': 'relu',\n",
       "   'max_epoch': 1,\n",
       "   'min_delta': 0.01,\n",
       "   'batch_size': 2048,\n",
       "   'train_ips': False,\n",
       "   'time_slots_per_day': 1.0,\n",
       "   'popularity_alpha': 0},\n",
       "  {'n_hidden_layers': 2, 'n_nodes': [500, 100]},\n",
       "  6.817168905303955),\n",
       " (<simtrain.sim_models.RecModel at 0x7f24b82afd90>,\n",
       "  {'dropout_rate': 0.15,\n",
       "   'n_hidden_layers': 2,\n",
       "   'n_nodes': [500, 500],\n",
       "   'hidden_activation': 'relu',\n",
       "   'max_epoch': 1,\n",
       "   'min_delta': 0.01,\n",
       "   'batch_size': 2048,\n",
       "   'train_ips': False,\n",
       "   'time_slots_per_day': 1.0,\n",
       "   'popularity_alpha': 0},\n",
       "  {'n_hidden_layers': 2, 'n_nodes': [500, 500]},\n",
       "  6.815116949920654),\n",
       " (<simtrain.sim_models.RecModel at 0x7f24b81f0850>,\n",
       "  {'dropout_rate': 0.15,\n",
       "   'n_hidden_layers': 2,\n",
       "   'n_nodes': [1000, 100],\n",
       "   'hidden_activation': 'relu',\n",
       "   'max_epoch': 1,\n",
       "   'min_delta': 0.01,\n",
       "   'batch_size': 2048,\n",
       "   'train_ips': False,\n",
       "   'time_slots_per_day': 1.0,\n",
       "   'popularity_alpha': 0},\n",
       "  {'n_hidden_layers': 2, 'n_nodes': [1000, 100]},\n",
       "  6.81751660647583),\n",
       " (<simtrain.sim_models.RecModel at 0x7f24c54c2d50>,\n",
       "  {'dropout_rate': 0.15,\n",
       "   'n_hidden_layers': 2,\n",
       "   'n_nodes': [1000, 500],\n",
       "   'hidden_activation': 'relu',\n",
       "   'max_epoch': 1,\n",
       "   'min_delta': 0.01,\n",
       "   'batch_size': 2048,\n",
       "   'train_ips': False,\n",
       "   'time_slots_per_day': 1.0,\n",
       "   'popularity_alpha': 0},\n",
       "  {'n_hidden_layers': 2, 'n_nodes': [1000, 500]},\n",
       "  6.815014121032715),\n",
       " (<simtrain.sim_models.RecModel at 0x7f248bffa250>,\n",
       "  {'dropout_rate': 0.15,\n",
       "   'n_hidden_layers': 2,\n",
       "   'n_nodes': [2000, 500],\n",
       "   'hidden_activation': 'relu',\n",
       "   'max_epoch': 1,\n",
       "   'min_delta': 0.01,\n",
       "   'batch_size': 2048,\n",
       "   'train_ips': False,\n",
       "   'time_slots_per_day': 1.0,\n",
       "   'popularity_alpha': 0},\n",
       "  {'n_hidden_layers': 2, 'n_nodes': [2000, 500]},\n",
       "  6.814868138214111),\n",
       " (<simtrain.sim_models.RecModel at 0x7f248bddfa10>,\n",
       "  {'dropout_rate': 0.15,\n",
       "   'n_hidden_layers': 1,\n",
       "   'n_nodes': [1000],\n",
       "   'hidden_activation': 'relu',\n",
       "   'max_epoch': 1,\n",
       "   'min_delta': 0.01,\n",
       "   'batch_size': 2048,\n",
       "   'train_ips': False,\n",
       "   'time_slots_per_day': 1.0,\n",
       "   'popularity_alpha': 0.05},\n",
       "  {'popularity_alpha': 0.05, 'n_hidden_layers': 1, 'n_nodes': [1000]},\n",
       "  6.8130013276367185),\n",
       " (<simtrain.sim_models.RecModel at 0x7f248bc91bd0>,\n",
       "  {'dropout_rate': 0.15,\n",
       "   'n_hidden_layers': 1,\n",
       "   'n_nodes': [1000],\n",
       "   'hidden_activation': 'relu',\n",
       "   'max_epoch': 1,\n",
       "   'min_delta': 0.01,\n",
       "   'batch_size': 2048,\n",
       "   'train_ips': False,\n",
       "   'time_slots_per_day': 1.0,\n",
       "   'popularity_alpha': 0.1},\n",
       "  {'popularity_alpha': 0.1, 'n_hidden_layers': 1, 'n_nodes': [1000]},\n",
       "  6.809621791229248),\n",
       " (<simtrain.sim_models.RecModel at 0x7f247d5fa0d0>,\n",
       "  {'dropout_rate': 0.15,\n",
       "   'n_hidden_layers': 1,\n",
       "   'n_nodes': [1000],\n",
       "   'hidden_activation': 'relu',\n",
       "   'max_epoch': 1,\n",
       "   'min_delta': 0.01,\n",
       "   'batch_size': 2048,\n",
       "   'train_ips': False,\n",
       "   'time_slots_per_day': 1.0,\n",
       "   'popularity_alpha': 0.2},\n",
       "  {'popularity_alpha': 0.2, 'n_hidden_layers': 1, 'n_nodes': [1000]},\n",
       "  6.800872219512939)]"
      ]
     },
     "execution_count": 23,
     "metadata": {
      "nterop": {
       "id": "460"
      }
     },
     "output_type": "execute_result"
    }
   ],
   "source": [
    "rec_models_loss"
   ]
  },
  {
   "cell_type": "code",
   "execution_count": 22,
   "metadata": {
    "nterop": {
     "id": "312"
    }
   },
   "outputs": [
    {
     "name": "stdout",
     "output_type": "stream",
     "text": [
      "mkdir: cannot create directory ‘/root/notebooks/accordion/dat/rec_hyp_select’: File exists\n",
      "saving to target path /root/notebooks/accordion/dat/rec_hyp_select/rec_model_n_hidden_layers-1_n_nodes-[500]\n",
      "INFO:tensorflow:Assets written to: /root/notebooks/accordion/dat/rec_hyp_select/rec_model_n_hidden_layers-1_n_nodes-[500]/assets\n",
      "saving to target path /root/notebooks/accordion/dat/rec_hyp_select/rec_model_n_hidden_layers-1_n_nodes-[1000]\n",
      "INFO:tensorflow:Assets written to: /root/notebooks/accordion/dat/rec_hyp_select/rec_model_n_hidden_layers-1_n_nodes-[1000]/assets\n",
      "saving to target path /root/notebooks/accordion/dat/rec_hyp_select/rec_model_n_hidden_layers-1_n_nodes-[2000]\n",
      "INFO:tensorflow:Assets written to: /root/notebooks/accordion/dat/rec_hyp_select/rec_model_n_hidden_layers-1_n_nodes-[2000]/assets\n",
      "saving to target path /root/notebooks/accordion/dat/rec_hyp_select/rec_model_n_hidden_layers-2_n_nodes-[500, 100]\n",
      "INFO:tensorflow:Assets written to: /root/notebooks/accordion/dat/rec_hyp_select/rec_model_n_hidden_layers-2_n_nodes-[500, 100]/assets\n",
      "saving to target path /root/notebooks/accordion/dat/rec_hyp_select/rec_model_n_hidden_layers-2_n_nodes-[500, 500]\n",
      "INFO:tensorflow:Assets written to: /root/notebooks/accordion/dat/rec_hyp_select/rec_model_n_hidden_layers-2_n_nodes-[500, 500]/assets\n",
      "saving to target path /root/notebooks/accordion/dat/rec_hyp_select/rec_model_n_hidden_layers-2_n_nodes-[1000, 100]\n",
      "INFO:tensorflow:Assets written to: /root/notebooks/accordion/dat/rec_hyp_select/rec_model_n_hidden_layers-2_n_nodes-[1000, 100]/assets\n",
      "saving to target path /root/notebooks/accordion/dat/rec_hyp_select/rec_model_n_hidden_layers-2_n_nodes-[1000, 500]\n",
      "INFO:tensorflow:Assets written to: /root/notebooks/accordion/dat/rec_hyp_select/rec_model_n_hidden_layers-2_n_nodes-[1000, 500]/assets\n",
      "saving to target path /root/notebooks/accordion/dat/rec_hyp_select/rec_model_n_hidden_layers-2_n_nodes-[2000, 500]\n",
      "INFO:tensorflow:Assets written to: /root/notebooks/accordion/dat/rec_hyp_select/rec_model_n_hidden_layers-2_n_nodes-[2000, 500]/assets\n",
      "saving to target path /root/notebooks/accordion/dat/rec_hyp_select/rec_model_popularity_alpha-0.05_n_hidden_layers-1_n_nodes-[1000]\n",
      "INFO:tensorflow:Assets written to: /root/notebooks/accordion/dat/rec_hyp_select/rec_model_popularity_alpha-0.05_n_hidden_layers-1_n_nodes-[1000]/assets\n",
      "saving to target path /root/notebooks/accordion/dat/rec_hyp_select/rec_model_popularity_alpha-0.1_n_hidden_layers-1_n_nodes-[1000]\n",
      "INFO:tensorflow:Assets written to: /root/notebooks/accordion/dat/rec_hyp_select/rec_model_popularity_alpha-0.1_n_hidden_layers-1_n_nodes-[1000]/assets\n",
      "saving to target path /root/notebooks/accordion/dat/rec_hyp_select/rec_model_popularity_alpha-0.2_n_hidden_layers-1_n_nodes-[1000]\n",
      "INFO:tensorflow:Assets written to: /root/notebooks/accordion/dat/rec_hyp_select/rec_model_popularity_alpha-0.2_n_hidden_layers-1_n_nodes-[1000]/assets\n",
      "done.\n"
     ]
    }
   ],
   "source": [
    "def save_hyp_rec_models_loss(rec_models_loss):\n",
    "    # define file format based on delta hyp:\n",
    "    hyp_ext = lambda delta_hyp: '_'.join([str(k)+'-'+str(v) for k,v in delta_hyp.items()])\n",
    "    \n",
    "    model_stem = join(paths.dat, SETTINGS.filepaths['rec_model_t_test'])\n",
    "    model_stem_dir = join(paths.dat, 'rec_hyp_select')\n",
    "    !mkdir {model_stem_dir}\n",
    "    \n",
    "    # build results dataframe for easy access:\n",
    "    results_df = pd.DataFrame(columns=['delta_hyp', 'loss'])\n",
    "    \n",
    "    for (m,h,dh,loss) in rec_models_loss:\n",
    "        target_path = join(model_stem_dir, 'rec_model_' + hyp_ext(dh))\n",
    "        print('saving to target path',target_path)\n",
    "        m.save(target_path)\n",
    "        results_df = results_df.append({'delta_hyp':hyp_ext(dh), 'loss':loss}, ignore_index=True)\n",
    "    print('done.')\n",
    "    \n",
    "    # save results object containing losses and hyps:\n",
    "    results_df.to_csv(join(model_stem_dir, 'results.csv'))\n",
    "        \n",
    "save_hyp_rec_models_loss(rec_models_loss)"
   ]
  },
  {
   "attachments": {},
   "cell_type": "markdown",
   "metadata": {
    "nterop": {
     "id": "313"
    }
   },
   "source": [
    "### conclusion\n",
    "optimal hyperparameters are (n_layers = 1, n_nodes = 2000, alpha = 0.2)\n",
    "\n",
    "finally: train on full dataset with optimal hyperparameters"
   ]
  },
  {
   "cell_type": "code",
   "execution_count": 24,
   "metadata": {
    "nterop": {
     "id": "314"
    }
   },
   "outputs": [
    {
     "data": {
      "text/plain": [
       "{'dropout_rate': 0.15,\n",
       " 'n_hidden_layers': 1,\n",
       " 'n_nodes': [2000],\n",
       " 'hidden_activation': 'relu',\n",
       " 'max_epoch': 1,\n",
       " 'min_delta': 0.01,\n",
       " 'batch_size': 2048,\n",
       " 'train_ips': False,\n",
       " 'time_slots_per_day': 1.0,\n",
       " 'popularity_alpha': 0.2}"
      ]
     },
     "execution_count": 24,
     "metadata": {
      "nterop": {
       "id": "461"
      }
     },
     "output_type": "execute_result"
    }
   ],
   "source": [
    "opt_rec_hyp = SETTINGS.hyp['rec_model_hyp'].copy()\n",
    "opt_rec_hyp.update({'popularity_alpha':0.2, 'n_hidden_layers':1, 'n_nodes':[2000], 'max_epoch':1})\n",
    "opt_rec_hyp"
   ]
  },
  {
   "cell_type": "code",
   "execution_count": 26,
   "metadata": {
    "nterop": {
     "id": "15"
    }
   },
   "outputs": [
    {
     "name": "stdout",
     "output_type": "stream",
     "text": [
      "pop alpha 0.2\n",
      "weights shape (8594958,)\n",
      "n positive interactions in train 21271.0\n",
      "\t decoding state:\n",
      "stats of sparse matrix 1007 8594957 0 919 8594958 920\n",
      "\t one-hot encoding actions:\n"
     ]
    },
    {
     "name": "stderr",
     "output_type": "stream",
     "text": [
      "/apps/python3/lib/python3.7/site-packages/tensorflow/python/keras/engine/training.py:1839: UserWarning: `Model.fit_generator` is deprecated and will be removed in a future version. Please use `Model.fit`, which supports generators.\n",
      "  warnings.warn('`Model.fit_generator` is deprecated and '\n"
     ]
    },
    {
     "name": "stdout",
     "output_type": "stream",
     "text": [
      "4197/4197 [==============================] - 399s 95ms/step - loss: 21.8730 - accuracy: 0.0181\n"
     ]
    }
   ],
   "source": [
    "# define which cells to train on\n",
    "np.random.seed(100)\n",
    "rec_cells = SETTINGS.simulation_components['rec_model_cell_nbr']\n",
    "NR = len(rec_cells)\n",
    "rec_model = sim_models.RecModel(stg['NI'], stg['NI'], opt_rec_hyp)\n",
    "train_rows = (all_dat['acnt.test_cell_nbr']==cells['train'])\n",
    "rec_train = all_dat[train_rows]\n",
    "\n",
    "# define weights\n",
    "train_ac = rec_train.groupby('action').action.count()\n",
    "pr_item = train_ac / rec_train.shape[0]\n",
    "weight_df = pr_item.to_frame().rename(columns={'action':'pr_item'})\n",
    "\n",
    "pop_alpha = opt_rec_hyp['popularity_alpha']\n",
    "print('pop alpha',pop_alpha)\n",
    "if pop_alpha > 0:\n",
    "    weight_df['weight'] = 1/(weight_df.pr_item.values**pop_alpha)\n",
    "    weights = rec_train.merge(weight_df, how='inner', on='action').weight\n",
    "    print('weights shape',weights.shape)\n",
    "else:\n",
    "    weights = np.ones(rec_train.shape[0])\n",
    "\n",
    "print('n positive interactions in train',rec_train.reward.sum())\n",
    "rec_model.fit(rec_train, stg['NI'], W_=weights[:,np.newaxis])\n",
    "rec_model.save(join(paths.dat, 'opt_rec_model.h5'))"
   ]
  },
  {
   "attachments": {},
   "cell_type": "markdown",
   "metadata": {
    "nterop": {
     "id": "355"
    }
   },
   "source": [
    "### User model hyp selection\n",
    "\n",
    "hyperparameters to select over:\n",
    "+ n_nodes per first layer = [200, 1000, 5000, 10000]\n",
    "+ n_nodes per second layer = [0, 200, 1000, 5000]\n",
    "+ alpha for popularity attenuation = [0., 0.1, 0.3, 0.5]\n",
    "\n",
    "strategy:\n",
    "+ select architecture, pick one that minimizes loss on validation data\n",
    "+ then select alpha based on min loss on validation data"
   ]
  },
  {
   "cell_type": "code",
   "execution_count": 27,
   "metadata": {
    "nterop": {
     "id": "356"
    }
   },
   "outputs": [
    {
     "name": "stdout",
     "output_type": "stream",
     "text": [
      "n train points 21271\n",
      "updating with hp {'n_hidden_layers': 1, 'n_nodes': [200]}\n",
      "training with hyp {'dropout_rate': 0.15, 'n_hidden_layers': 1, 'n_nodes': [200], 'hidden_activation': 'relu', 'max_epoch': 5, 'min_delta': 0.001, 'batch_size': 2048, 'train_ips': False, 'popularity_alpha': 0}\n",
      "fitting user model:\n",
      "stats of sparse matrix 1 21270 0 919 21271 920\n",
      "train ips = False\n",
      "Epoch 1/5\n",
      "11/11 [==============================] - 1s 23ms/step - loss: 6.8240 - accuracy: 0.0058\n",
      "Epoch 2/5\n",
      "11/11 [==============================] - 0s 25ms/step - loss: 6.8234 - accuracy: 0.0182\n",
      "updating with hp {'n_hidden_layers': 1, 'n_nodes': [1000]}\n",
      "training with hyp {'dropout_rate': 0.15, 'n_hidden_layers': 1, 'n_nodes': [1000], 'hidden_activation': 'relu', 'max_epoch': 5, 'min_delta': 0.001, 'batch_size': 2048, 'train_ips': False, 'popularity_alpha': 0}\n",
      "fitting user model:\n",
      "stats of sparse matrix 1 21270 0 919 21271 920\n",
      "train ips = False\n",
      "Epoch 1/5\n",
      "11/11 [==============================] - 1s 54ms/step - loss: 6.8243 - accuracy: 0.0062\n",
      "Epoch 2/5\n",
      "11/11 [==============================] - 1s 54ms/step - loss: 6.8235 - accuracy: 0.0143\n",
      "updating with hp {'n_hidden_layers': 1, 'n_nodes': [5000]}\n",
      "training with hyp {'dropout_rate': 0.15, 'n_hidden_layers': 1, 'n_nodes': [5000], 'hidden_activation': 'relu', 'max_epoch': 5, 'min_delta': 0.001, 'batch_size': 2048, 'train_ips': False, 'popularity_alpha': 0}\n",
      "fitting user model:\n",
      "stats of sparse matrix 1 21270 0 919 21271 920\n",
      "train ips = False\n",
      "Epoch 1/5\n",
      "11/11 [==============================] - 3s 218ms/step - loss: 6.8242 - accuracy: 0.0073\n",
      "Epoch 2/5\n",
      "11/11 [==============================] - 2s 222ms/step - loss: 6.8234 - accuracy: 0.0265\n",
      "updating with hp {'n_hidden_layers': 1, 'n_nodes': [10000]}\n",
      "training with hyp {'dropout_rate': 0.15, 'n_hidden_layers': 1, 'n_nodes': [10000], 'hidden_activation': 'relu', 'max_epoch': 5, 'min_delta': 0.001, 'batch_size': 2048, 'train_ips': False, 'popularity_alpha': 0}\n",
      "fitting user model:\n",
      "stats of sparse matrix 1 21270 0 919 21271 920\n",
      "train ips = False\n",
      "Epoch 1/5\n",
      "11/11 [==============================] - 5s 416ms/step - loss: 6.8242 - accuracy: 0.0077\n",
      "Epoch 2/5\n",
      "11/11 [==============================] - 5s 422ms/step - loss: 6.8234 - accuracy: 0.0316\n",
      "updating with hp {'n_hidden_layers': 1, 'n_nodes': [5000, 200]}\n",
      "training with hyp {'dropout_rate': 0.15, 'n_hidden_layers': 1, 'n_nodes': [5000, 200], 'hidden_activation': 'relu', 'max_epoch': 5, 'min_delta': 0.001, 'batch_size': 2048, 'train_ips': False, 'popularity_alpha': 0}\n",
      "fitting user model:\n",
      "stats of sparse matrix 1 21270 0 919 21271 920\n",
      "train ips = False\n",
      "Epoch 1/5\n",
      "11/11 [==============================] - 3s 220ms/step - loss: 6.8240 - accuracy: 0.0066\n",
      "Epoch 2/5\n",
      "11/11 [==============================] - 2s 223ms/step - loss: 6.8233 - accuracy: 0.0256\n",
      "updating with hp {'n_hidden_layers': 1, 'n_nodes': [5000, 1000]}\n",
      "training with hyp {'dropout_rate': 0.15, 'n_hidden_layers': 1, 'n_nodes': [5000, 1000], 'hidden_activation': 'relu', 'max_epoch': 5, 'min_delta': 0.001, 'batch_size': 2048, 'train_ips': False, 'popularity_alpha': 0}\n",
      "fitting user model:\n",
      "stats of sparse matrix 1 21270 0 919 21271 920\n",
      "train ips = False\n",
      "Epoch 1/5\n",
      "11/11 [==============================] - 3s 222ms/step - loss: 6.8242 - accuracy: 0.0078\n",
      "Epoch 2/5\n",
      "11/11 [==============================] - 2s 221ms/step - loss: 6.8233 - accuracy: 0.0354\n",
      "updating with hp {'n_hidden_layers': 1, 'n_nodes': [5000, 5000]}\n",
      "training with hyp {'dropout_rate': 0.15, 'n_hidden_layers': 1, 'n_nodes': [5000, 5000], 'hidden_activation': 'relu', 'max_epoch': 5, 'min_delta': 0.001, 'batch_size': 2048, 'train_ips': False, 'popularity_alpha': 0}\n",
      "fitting user model:\n",
      "stats of sparse matrix 1 21270 0 919 21271 920\n",
      "train ips = False\n",
      "Epoch 1/5\n",
      "11/11 [==============================] - 3s 224ms/step - loss: 6.8240 - accuracy: 0.0115\n",
      "Epoch 2/5\n",
      "11/11 [==============================] - 2s 225ms/step - loss: 6.8232 - accuracy: 0.0459\n",
      "updating with hp {'popularity_alpha': 0.1, 'n_hidden_layers': 1, 'n_nodes': [5000]}\n",
      "training with hyp {'dropout_rate': 0.15, 'n_hidden_layers': 1, 'n_nodes': [5000], 'hidden_activation': 'relu', 'max_epoch': 5, 'min_delta': 0.001, 'batch_size': 2048, 'train_ips': False, 'popularity_alpha': 0.1}\n",
      "weights shape (21271,)\n",
      "fitting user model:\n",
      "stats of sparse matrix 1 21270 0 919 21271 920\n",
      "train ips = False\n",
      "Epoch 1/5\n",
      "11/11 [==============================] - 3s 223ms/step - loss: 11.7179 - accuracy: 0.0104\n",
      "Epoch 2/5\n",
      "11/11 [==============================] - 2s 221ms/step - loss: 11.7350 - accuracy: 0.0415\n",
      "Epoch 3/5\n",
      "11/11 [==============================] - 2s 224ms/step - loss: 11.7495 - accuracy: 0.0606\n",
      "Epoch 4/5\n",
      "11/11 [==============================] - 2s 223ms/step - loss: 11.7309 - accuracy: 0.0715\n",
      "Epoch 5/5\n",
      "11/11 [==============================] - 3s 226ms/step - loss: 11.7542 - accuracy: 0.0723\n",
      "updating with hp {'popularity_alpha': 0.3, 'n_hidden_layers': 1, 'n_nodes': [5000]}\n",
      "training with hyp {'dropout_rate': 0.15, 'n_hidden_layers': 1, 'n_nodes': [5000], 'hidden_activation': 'relu', 'max_epoch': 5, 'min_delta': 0.001, 'batch_size': 2048, 'train_ips': False, 'popularity_alpha': 0.3}\n",
      "weights shape (21271,)\n",
      "fitting user model:\n",
      "stats of sparse matrix 1 21270 0 919 21271 920\n",
      "train ips = False\n",
      "Epoch 1/5\n",
      "11/11 [==============================] - 3s 224ms/step - loss: 38.4846 - accuracy: 0.0140\n",
      "Epoch 2/5\n",
      "11/11 [==============================] - 2s 223ms/step - loss: 38.3317 - accuracy: 0.0573\n",
      "Epoch 3/5\n",
      "11/11 [==============================] - 2s 221ms/step - loss: 38.5667 - accuracy: 0.0791\n",
      "Epoch 4/5\n",
      "11/11 [==============================] - 2s 225ms/step - loss: 38.6727 - accuracy: 0.0876\n",
      "Epoch 5/5\n",
      "11/11 [==============================] - 3s 227ms/step - loss: 38.2944 - accuracy: 0.0922\n",
      "updating with hp {'popularity_alpha': 0.5, 'n_hidden_layers': 1, 'n_nodes': [5000]}\n",
      "training with hyp {'dropout_rate': 0.15, 'n_hidden_layers': 1, 'n_nodes': [5000], 'hidden_activation': 'relu', 'max_epoch': 5, 'min_delta': 0.001, 'batch_size': 2048, 'train_ips': False, 'popularity_alpha': 0.5}\n",
      "weights shape (21271,)\n",
      "fitting user model:\n",
      "stats of sparse matrix 1 21270 0 919 21271 920\n",
      "train ips = False\n",
      "Epoch 1/5\n",
      "11/11 [==============================] - 3s 224ms/step - loss: 142.8971 - accuracy: 0.0350\n",
      "Epoch 2/5\n",
      "11/11 [==============================] - 2s 225ms/step - loss: 142.8001 - accuracy: 0.0896\n",
      "Epoch 3/5\n",
      "11/11 [==============================] - 2s 226ms/step - loss: 143.5588 - accuracy: 0.0942\n",
      "Epoch 4/5\n",
      "11/11 [==============================] - 3s 228ms/step - loss: 143.6338 - accuracy: 0.0909\n",
      "Epoch 5/5\n",
      "11/11 [==============================] - 3s 226ms/step - loss: 143.3319 - accuracy: 0.0871\n"
     ]
    }
   ],
   "source": [
    "# define hyp configuration as operation on the hyp dict:\n",
    "usr_hyp_points = [{'n_hidden_layers':1, 'n_nodes':[200]},\n",
    "                  {'n_hidden_layers':1, 'n_nodes':[1000]},\n",
    "                  {'n_hidden_layers':1, 'n_nodes':[5000]},\n",
    "                  {'n_hidden_layers':1, 'n_nodes':[10000]},\n",
    "                  {'n_hidden_layers':1, 'n_nodes':[5000,200]},\n",
    "                  {'n_hidden_layers':1, 'n_nodes':[5000,1000]},\n",
    "                  {'n_hidden_layers':1, 'n_nodes':[5000,5000]},\n",
    "                  {'popularity_alpha':0.1, 'n_hidden_layers':1, 'n_nodes':[5000]},\n",
    "                  {'popularity_alpha':0.3, 'n_hidden_layers':1, 'n_nodes':[5000]},\n",
    "                  {'popularity_alpha':0.5, 'n_hidden_layers':1, 'n_nodes':[5000]}]\n",
    "\n",
    "# define settings global to all experiments in hyp selection:\n",
    "usr_hyp_global =  {'dropout_rate': 0.15,\n",
    "                       'n_hidden_layers': 1, \n",
    "                       'n_nodes': [500], \n",
    "                       'hidden_activation': 'relu',\n",
    "                       'max_epoch': 5,\n",
    "                       'min_delta': 0.001,\n",
    "                       'batch_size': 2048, \n",
    "                       'train_ips': False,\n",
    "                       'popularity_alpha':0\n",
    "                    }\n",
    "\n",
    "\n",
    "def train_hyp_usr(dat, stg, hyp, hyp_points, global_hyp, seed=84):\n",
    "    np.random.seed(seed)\n",
    "    train_rows = ((dat['acnt.test_cell_nbr']==cells['train']) & (dat.reward > 0))\n",
    "    usr_train = dat[train_rows]\n",
    "    print('n train points', usr_train.shape[0])\n",
    "    \n",
    "    retval = [] # of form (model, all_hyp, delta_hyp)\n",
    "    \n",
    "    # define action-reward popularity:\n",
    "    dat_ac = usr_train.groupby('action').action.count()\n",
    "    pr_item = dat_ac / usr_train.shape[0]\n",
    "    weight_df = pr_item.to_frame().rename(columns={'action':'pr_item'})\n",
    "    \n",
    "    for hp in hyp_points:\n",
    "        # update local copy of hyp:\n",
    "        local_hyp = hyp.copy()\n",
    "        print('updating with hp',hp)\n",
    "        local_hyp.update(global_hyp)\n",
    "        local_hyp.update(hp)\n",
    "        print('training with hyp',local_hyp)\n",
    "        \n",
    "        # define weights:\n",
    "        pop_alpha = local_hyp['popularity_alpha']\n",
    "        if  pop_alpha > 0:\n",
    "            weight_df['weight'] = 1/(weight_df.pr_item.values**pop_alpha)\n",
    "            weights = usr_train.merge(weight_df, how='inner', on='action').weight.values\n",
    "            print('weights shape',weights.shape)\n",
    "        else:\n",
    "            weights = np.ones(rec_train.shape[0])\n",
    "        \n",
    "        # train model\n",
    "        usr_model = sim_models.UserModel(stg['NI'], stg['NI'], local_hyp)\n",
    "        usr_model.fit(usr_train, stg['NI'], stg['NI'], W_=weights[:,np.newaxis], ips=False)\n",
    "\n",
    "        retval.append((usr_model, local_hyp, hp))\n",
    "    \n",
    "    return retval\n",
    "\n",
    "usr_models = train_hyp_usr(all_dat, stg, SETTINGS.hyp['user_model_hyp'], usr_hyp_points, usr_hyp_global)"
   ]
  },
  {
   "cell_type": "code",
   "execution_count": 28,
   "metadata": {
    "nterop": {
     "id": "357"
    }
   },
   "outputs": [
    {
     "name": "stdout",
     "output_type": "stream",
     "text": [
      "saving to target path /root/notebooks/accordion/dat/usr_hyp_select/usr_model_n_hidden_layers-1_n_nodes-[200]\n",
      "INFO:tensorflow:Assets written to: /root/notebooks/accordion/dat/usr_hyp_select/usr_model_n_hidden_layers-1_n_nodes-[200]/assets\n",
      "saving to target path /root/notebooks/accordion/dat/usr_hyp_select/usr_model_n_hidden_layers-1_n_nodes-[1000]\n",
      "INFO:tensorflow:Assets written to: /root/notebooks/accordion/dat/usr_hyp_select/usr_model_n_hidden_layers-1_n_nodes-[1000]/assets\n",
      "saving to target path /root/notebooks/accordion/dat/usr_hyp_select/usr_model_n_hidden_layers-1_n_nodes-[5000]\n",
      "INFO:tensorflow:Assets written to: /root/notebooks/accordion/dat/usr_hyp_select/usr_model_n_hidden_layers-1_n_nodes-[5000]/assets\n",
      "saving to target path /root/notebooks/accordion/dat/usr_hyp_select/usr_model_n_hidden_layers-1_n_nodes-[10000]\n",
      "INFO:tensorflow:Assets written to: /root/notebooks/accordion/dat/usr_hyp_select/usr_model_n_hidden_layers-1_n_nodes-[10000]/assets\n",
      "saving to target path /root/notebooks/accordion/dat/usr_hyp_select/usr_model_n_hidden_layers-1_n_nodes-[5000, 200]\n",
      "INFO:tensorflow:Assets written to: /root/notebooks/accordion/dat/usr_hyp_select/usr_model_n_hidden_layers-1_n_nodes-[5000, 200]/assets\n",
      "saving to target path /root/notebooks/accordion/dat/usr_hyp_select/usr_model_n_hidden_layers-1_n_nodes-[5000, 1000]\n",
      "INFO:tensorflow:Assets written to: /root/notebooks/accordion/dat/usr_hyp_select/usr_model_n_hidden_layers-1_n_nodes-[5000, 1000]/assets\n",
      "saving to target path /root/notebooks/accordion/dat/usr_hyp_select/usr_model_n_hidden_layers-1_n_nodes-[5000, 5000]\n",
      "INFO:tensorflow:Assets written to: /root/notebooks/accordion/dat/usr_hyp_select/usr_model_n_hidden_layers-1_n_nodes-[5000, 5000]/assets\n",
      "saving to target path /root/notebooks/accordion/dat/usr_hyp_select/usr_model_popularity_alpha-0.1_n_hidden_layers-1_n_nodes-[5000]\n",
      "INFO:tensorflow:Assets written to: /root/notebooks/accordion/dat/usr_hyp_select/usr_model_popularity_alpha-0.1_n_hidden_layers-1_n_nodes-[5000]/assets\n",
      "saving to target path /root/notebooks/accordion/dat/usr_hyp_select/usr_model_popularity_alpha-0.3_n_hidden_layers-1_n_nodes-[5000]\n",
      "INFO:tensorflow:Assets written to: /root/notebooks/accordion/dat/usr_hyp_select/usr_model_popularity_alpha-0.3_n_hidden_layers-1_n_nodes-[5000]/assets\n",
      "saving to target path /root/notebooks/accordion/dat/usr_hyp_select/usr_model_popularity_alpha-0.5_n_hidden_layers-1_n_nodes-[5000]\n",
      "INFO:tensorflow:Assets written to: /root/notebooks/accordion/dat/usr_hyp_select/usr_model_popularity_alpha-0.5_n_hidden_layers-1_n_nodes-[5000]/assets\n",
      "done.\n"
     ]
    }
   ],
   "source": [
    "def save_hyp_usr_models(models):\n",
    "    # define file format based on delta hyp:\n",
    "    hyp_ext = lambda delta_hyp: '_'.join([str(k)+'-'+str(v) for k,v in delta_hyp.items()])\n",
    "    \n",
    "    model_stem = join(paths.dat, SETTINGS.filepaths['user_model_test'])\n",
    "    model_stem_dir = join(paths.dat, 'usr_hyp_select')\n",
    "    !mkdir {model_stem_dir}\n",
    "    \n",
    "    for (m,h,dh) in models:\n",
    "        target_path = join(model_stem_dir, 'usr_model_' + hyp_ext(dh))\n",
    "        print('saving to target path',target_path)\n",
    "        m.save(target_path)\n",
    "    print('done.')\n",
    "    \n",
    "save_hyp_usr_models(usr_models)"
   ]
  },
  {
   "cell_type": "code",
   "execution_count": 29,
   "metadata": {
    "nterop": {
     "id": "358"
    }
   },
   "outputs": [
    {
     "name": "stdout",
     "output_type": "stream",
     "text": [
      "n rows in validation 9115\n",
      "stats of sparse matrix 1 9114 0 919 9115 920\n",
      "285/285 [==============================] - 1s 2ms/step - loss: 6.8231 - accuracy: 0.0199\n",
      "delta_hyp {'n_hidden_layers': 1, 'n_nodes': [200]} loss 6.82314491005174\n",
      "285/285 [==============================] - 1s 3ms/step - loss: 6.8230 - accuracy: 0.0138\n",
      "delta_hyp {'n_hidden_layers': 1, 'n_nodes': [1000]} loss 6.8229789363507445\n",
      "285/285 [==============================] - 2s 5ms/step - loss: 6.8229 - accuracy: 0.0285\n",
      "delta_hyp {'n_hidden_layers': 1, 'n_nodes': [5000]} loss 6.822870035375531\n",
      "285/285 [==============================] - 2s 8ms/step - loss: 6.8228 - accuracy: 0.0354\n",
      "delta_hyp {'n_hidden_layers': 1, 'n_nodes': [10000]} loss 6.822810058677452\n",
      "285/285 [==============================] - 2s 5ms/step - loss: 6.8228 - accuracy: 0.0337\n",
      "delta_hyp {'n_hidden_layers': 1, 'n_nodes': [5000, 200]} loss 6.822763762733012\n",
      "285/285 [==============================] - 2s 5ms/step - loss: 6.8229 - accuracy: 0.0413\n",
      "delta_hyp {'n_hidden_layers': 1, 'n_nodes': [5000, 1000]} loss 6.822886566166295\n",
      "285/285 [==============================] - 2s 5ms/step - loss: 6.8224 - accuracy: 0.0551\n",
      "delta_hyp {'n_hidden_layers': 1, 'n_nodes': [5000, 5000]} loss 6.822436231946919\n",
      "285/285 [==============================] - 2s 5ms/step - loss: 6.8181 - accuracy: 0.0782\n",
      "delta_hyp {'popularity_alpha': 0.1, 'n_hidden_layers': 1, 'n_nodes': [5000]} loss 6.818139808725931\n",
      "285/285 [==============================] - 2s 5ms/step - loss: 6.8131 - accuracy: 0.0882\n",
      "delta_hyp {'popularity_alpha': 0.3, 'n_hidden_layers': 1, 'n_nodes': [5000]} loss 6.813069807011808\n",
      "285/285 [==============================] - 2s 5ms/step - loss: 6.7918 - accuracy: 0.0927\n",
      "delta_hyp {'popularity_alpha': 0.5, 'n_hidden_layers': 1, 'n_nodes': [5000]} loss 6.791834867752586\n"
     ]
    }
   ],
   "source": [
    "def eval_hyp_usr_models(dat, models, stg, seed=78):\n",
    "    np.random.seed(seed)\n",
    "    validation_rows = ((dat['acnt.test_cell_nbr']==cells['valid']) & (dat.reward>0))\n",
    "    usr_val = dat[validation_rows]\n",
    "    print('n rows in validation',usr_val.shape[0])\n",
    "    \n",
    "    retval = [] # of form (rec_model, all_hyp, delta_hyp, val_loss)\n",
    "    \n",
    "    is_feature_processed = False\n",
    "    for i,(m,h,dh) in enumerate(list(models)):    \n",
    "        if not(is_feature_processed):\n",
    "            Sv, Av, _ = m.process_features(usr_val, stg['NI'])\n",
    "            S = Sv.todense()\n",
    "            A = Av.todense()\n",
    "            is_feature_processed = True\n",
    "        loss,acc = m._model.evaluate(S, A)\n",
    "        print('delta_hyp',dh,'loss',loss)\n",
    "        retval.append((m,h,dh,loss))\n",
    "        \n",
    "    return retval\n",
    "        \n",
    "usr_models_loss = eval_hyp_usr_models(all_dat, usr_models, stg)"
   ]
  },
  {
   "cell_type": "code",
   "execution_count": 30,
   "metadata": {
    "nterop": {
     "id": "359"
    }
   },
   "outputs": [
    {
     "data": {
      "text/plain": [
       "[(<simtrain.sim_models.UserModel at 0x7f282982b150>,\n",
       "  {'dropout_rate': 0.15,\n",
       "   'n_hidden_layers': 1,\n",
       "   'n_nodes': [200],\n",
       "   'hidden_activation': 'relu',\n",
       "   'max_epoch': 5,\n",
       "   'min_delta': 0.001,\n",
       "   'batch_size': 2048,\n",
       "   'train_ips': False,\n",
       "   'popularity_alpha': 0},\n",
       "  {'n_hidden_layers': 1, 'n_nodes': [200]},\n",
       "  6.82314491005174),\n",
       " (<simtrain.sim_models.UserModel at 0x7f2829a79990>,\n",
       "  {'dropout_rate': 0.15,\n",
       "   'n_hidden_layers': 1,\n",
       "   'n_nodes': [1000],\n",
       "   'hidden_activation': 'relu',\n",
       "   'max_epoch': 5,\n",
       "   'min_delta': 0.001,\n",
       "   'batch_size': 2048,\n",
       "   'train_ips': False,\n",
       "   'popularity_alpha': 0},\n",
       "  {'n_hidden_layers': 1, 'n_nodes': [1000]},\n",
       "  6.8229789363507445),\n",
       " (<simtrain.sim_models.UserModel at 0x7f2829c6d250>,\n",
       "  {'dropout_rate': 0.15,\n",
       "   'n_hidden_layers': 1,\n",
       "   'n_nodes': [5000],\n",
       "   'hidden_activation': 'relu',\n",
       "   'max_epoch': 5,\n",
       "   'min_delta': 0.001,\n",
       "   'batch_size': 2048,\n",
       "   'train_ips': False,\n",
       "   'popularity_alpha': 0},\n",
       "  {'n_hidden_layers': 1, 'n_nodes': [5000]},\n",
       "  6.822870035375531),\n",
       " (<simtrain.sim_models.UserModel at 0x7f2829adda10>,\n",
       "  {'dropout_rate': 0.15,\n",
       "   'n_hidden_layers': 1,\n",
       "   'n_nodes': [10000],\n",
       "   'hidden_activation': 'relu',\n",
       "   'max_epoch': 5,\n",
       "   'min_delta': 0.001,\n",
       "   'batch_size': 2048,\n",
       "   'train_ips': False,\n",
       "   'popularity_alpha': 0},\n",
       "  {'n_hidden_layers': 1, 'n_nodes': [10000]},\n",
       "  6.822810058677452),\n",
       " (<simtrain.sim_models.UserModel at 0x7f28292a8510>,\n",
       "  {'dropout_rate': 0.15,\n",
       "   'n_hidden_layers': 1,\n",
       "   'n_nodes': [5000, 200],\n",
       "   'hidden_activation': 'relu',\n",
       "   'max_epoch': 5,\n",
       "   'min_delta': 0.001,\n",
       "   'batch_size': 2048,\n",
       "   'train_ips': False,\n",
       "   'popularity_alpha': 0},\n",
       "  {'n_hidden_layers': 1, 'n_nodes': [5000, 200]},\n",
       "  6.822763762733012),\n",
       " (<simtrain.sim_models.UserModel at 0x7f2799017290>,\n",
       "  {'dropout_rate': 0.15,\n",
       "   'n_hidden_layers': 1,\n",
       "   'n_nodes': [5000, 1000],\n",
       "   'hidden_activation': 'relu',\n",
       "   'max_epoch': 5,\n",
       "   'min_delta': 0.001,\n",
       "   'batch_size': 2048,\n",
       "   'train_ips': False,\n",
       "   'popularity_alpha': 0},\n",
       "  {'n_hidden_layers': 1, 'n_nodes': [5000, 1000]},\n",
       "  6.822886566166295),\n",
       " (<simtrain.sim_models.UserModel at 0x7f27b24a0c90>,\n",
       "  {'dropout_rate': 0.15,\n",
       "   'n_hidden_layers': 1,\n",
       "   'n_nodes': [5000, 5000],\n",
       "   'hidden_activation': 'relu',\n",
       "   'max_epoch': 5,\n",
       "   'min_delta': 0.001,\n",
       "   'batch_size': 2048,\n",
       "   'train_ips': False,\n",
       "   'popularity_alpha': 0},\n",
       "  {'n_hidden_layers': 1, 'n_nodes': [5000, 5000]},\n",
       "  6.822436231946919),\n",
       " (<simtrain.sim_models.UserModel at 0x7f282912ac10>,\n",
       "  {'dropout_rate': 0.15,\n",
       "   'n_hidden_layers': 1,\n",
       "   'n_nodes': [5000],\n",
       "   'hidden_activation': 'relu',\n",
       "   'max_epoch': 5,\n",
       "   'min_delta': 0.001,\n",
       "   'batch_size': 2048,\n",
       "   'train_ips': False,\n",
       "   'popularity_alpha': 0.1},\n",
       "  {'popularity_alpha': 0.1, 'n_hidden_layers': 1, 'n_nodes': [5000]},\n",
       "  6.818139808725931),\n",
       " (<simtrain.sim_models.UserModel at 0x7f27b284f610>,\n",
       "  {'dropout_rate': 0.15,\n",
       "   'n_hidden_layers': 1,\n",
       "   'n_nodes': [5000],\n",
       "   'hidden_activation': 'relu',\n",
       "   'max_epoch': 5,\n",
       "   'min_delta': 0.001,\n",
       "   'batch_size': 2048,\n",
       "   'train_ips': False,\n",
       "   'popularity_alpha': 0.3},\n",
       "  {'popularity_alpha': 0.3, 'n_hidden_layers': 1, 'n_nodes': [5000]},\n",
       "  6.813069807011808),\n",
       " (<simtrain.sim_models.UserModel at 0x7f27b27e5550>,\n",
       "  {'dropout_rate': 0.15,\n",
       "   'n_hidden_layers': 1,\n",
       "   'n_nodes': [5000],\n",
       "   'hidden_activation': 'relu',\n",
       "   'max_epoch': 5,\n",
       "   'min_delta': 0.001,\n",
       "   'batch_size': 2048,\n",
       "   'train_ips': False,\n",
       "   'popularity_alpha': 0.5},\n",
       "  {'popularity_alpha': 0.5, 'n_hidden_layers': 1, 'n_nodes': [5000]},\n",
       "  6.791834867752586)]"
      ]
     },
     "execution_count": 30,
     "metadata": {
      "nterop": {
       "id": "462"
      }
     },
     "output_type": "execute_result"
    }
   ],
   "source": [
    "usr_models_loss"
   ]
  },
  {
   "attachments": {},
   "cell_type": "markdown",
   "metadata": {
    "nterop": {
     "id": "361"
    }
   },
   "source": [
    "### conclusion\n",
    "optimal user model hyp are (n_layers = 1, n_nodes = [10000], pop_alpha = 0.5)\n",
    "\n",
    "finally: train on full dataset with optimal hyperparameters"
   ]
  },
  {
   "cell_type": "code",
   "execution_count": 31,
   "metadata": {
    "nterop": {
     "id": "362"
    }
   },
   "outputs": [],
   "source": [
    "# save results to file:\n",
    "def save_results(rs, relative_dir):\n",
    "    model_stem = join(paths.dat, SETTINGS.filepaths['user_model_test'])\n",
    "    model_stem_dir = join(paths.dat, relative_dir)\n",
    "    !mkdir {model_stem_dir}\n",
    "    hyp_ext = lambda delta_hyp: '_'.join([str(k)+'-'+str(v) for k,v in delta_hyp.items()])\n",
    "    \n",
    "    results = pd.DataFrame(columns=['delta_hyp', 'loss'])\n",
    "    \n",
    "    for i,(m,h,dh,l) in enumerate(rs):    \n",
    "        results = results.append({'delta_hyp':hyp_ext(dh), 'loss':l}, ignore_index=True)\n",
    "    \n",
    "    results.to_csv(join(model_stem_dir, 'hyp_results.csv'))\n",
    "    print('saved:\\n',results)\n",
    "        "
   ]
  },
  {
   "cell_type": "code",
   "execution_count": 32,
   "metadata": {
    "nterop": {
     "id": "363"
    }
   },
   "outputs": [
    {
     "name": "stdout",
     "output_type": "stream",
     "text": [
      "mkdir: cannot create directory ‘/root/notebooks/accordion/dat/usr_hyp_select’: File exists\n",
      "saved:\n",
      "                                            delta_hyp      loss\n",
      "0                    n_hidden_layers-1_n_nodes-[200]  6.823145\n",
      "1                   n_hidden_layers-1_n_nodes-[1000]  6.822979\n",
      "2                   n_hidden_layers-1_n_nodes-[5000]  6.822870\n",
      "3                  n_hidden_layers-1_n_nodes-[10000]  6.822810\n",
      "4              n_hidden_layers-1_n_nodes-[5000, 200]  6.822764\n",
      "5             n_hidden_layers-1_n_nodes-[5000, 1000]  6.822887\n",
      "6             n_hidden_layers-1_n_nodes-[5000, 5000]  6.822436\n",
      "7  popularity_alpha-0.1_n_hidden_layers-1_n_nodes...  6.818140\n",
      "8  popularity_alpha-0.3_n_hidden_layers-1_n_nodes...  6.813070\n",
      "9  popularity_alpha-0.5_n_hidden_layers-1_n_nodes...  6.791835\n",
      "mkdir: cannot create directory ‘/root/notebooks/accordion/dat/rec_hyp_select’: File exists\n",
      "saved:\n",
      "                                             delta_hyp      loss\n",
      "0                     n_hidden_layers-1_n_nodes-[500]  6.816145\n",
      "1                    n_hidden_layers-1_n_nodes-[1000]  6.814847\n",
      "2                    n_hidden_layers-1_n_nodes-[2000]  6.814644\n",
      "3                n_hidden_layers-2_n_nodes-[500, 100]  6.817169\n",
      "4                n_hidden_layers-2_n_nodes-[500, 500]  6.815117\n",
      "5               n_hidden_layers-2_n_nodes-[1000, 100]  6.817517\n",
      "6               n_hidden_layers-2_n_nodes-[1000, 500]  6.815014\n",
      "7               n_hidden_layers-2_n_nodes-[2000, 500]  6.814868\n",
      "8   popularity_alpha-0.05_n_hidden_layers-1_n_node...  6.813001\n",
      "9   popularity_alpha-0.1_n_hidden_layers-1_n_nodes...  6.809622\n",
      "10  popularity_alpha-0.2_n_hidden_layers-1_n_nodes...  6.800872\n"
     ]
    }
   ],
   "source": [
    "save_results(usr_models_loss, 'usr_hyp_select')\n",
    "save_results(rec_models_loss, 'rec_hyp_select')"
   ]
  },
  {
   "cell_type": "code",
   "execution_count": 33,
   "metadata": {
    "nterop": {
     "id": "364"
    }
   },
   "outputs": [
    {
     "data": {
      "text/plain": [
       "{'dropout_rate': 0.15,\n",
       " 'n_hidden_layers': 1,\n",
       " 'n_nodes': [5000],\n",
       " 'hidden_activation': 'relu',\n",
       " 'max_epoch': 10,\n",
       " 'min_delta': 0.001,\n",
       " 'batch_size': 2048,\n",
       " 'train_ips': False,\n",
       " 'popularity_alpha': 0.5}"
      ]
     },
     "execution_count": 33,
     "metadata": {
      "nterop": {
       "id": "463"
      }
     },
     "output_type": "execute_result"
    }
   ],
   "source": [
    "opt_usr_hyp = SETTINGS.hyp['user_model_hyp'].copy()\n",
    "opt_usr_hyp.update(usr_models_loss[-1][2])\n",
    "opt_usr_hyp"
   ]
  },
  {
   "cell_type": "code",
   "execution_count": 34,
   "metadata": {
    "nterop": {
     "id": "366"
    }
   },
   "outputs": [
    {
     "data": {
      "text/plain": [
       "<simtrain.sim_models.UserModel at 0x7f27b27e5550>"
      ]
     },
     "execution_count": 34,
     "metadata": {
      "nterop": {
       "id": "464"
      }
     },
     "output_type": "execute_result"
    }
   ],
   "source": [
    "user_model = usr_models_loss[-1][0]\n",
    "user_model"
   ]
  },
  {
   "cell_type": "code",
   "execution_count": 35,
   "metadata": {
    "nterop": {
     "id": "368"
    }
   },
   "outputs": [],
   "source": [
    "user_model.save(join(paths.dat, 'opt_user_model.h5'))"
   ]
  },
  {
   "attachments": {},
   "cell_type": "markdown",
   "metadata": {
    "nterop": {
     "id": "456"
    }
   },
   "source": [
    "## Train Visit Model"
   ]
  },
  {
   "cell_type": "code",
   "execution_count": 67,
   "metadata": {
    "nterop": {
     "id": "21"
    }
   },
   "outputs": [
    {
     "name": "stdout",
     "output_type": "stream",
     "text": [
      "loaded sim_models\n",
      "history_end_indx 5526\n",
      "[<KerasTensor: shape=(None, 921) dtype=float64 (created by layer 'tf.__operators__.getitem_237')>, <KerasTensor: shape=(None, 921) dtype=float64 (created by layer 'tf.__operators__.getitem_238')>, <KerasTensor: shape=(None, 921) dtype=float64 (created by layer 'tf.__operators__.getitem_239')>, <KerasTensor: shape=(None, 921) dtype=float64 (created by layer 'tf.__operators__.getitem_240')>, <KerasTensor: shape=(None, 921) dtype=float64 (created by layer 'tf.__operators__.getitem_241')>]\n",
      "visit model: num. unique visits in training data 45779\n",
      "fitting visit model:\n",
      "parallelizing across num. partitions 8\n",
      "X (45779, 5526)\n",
      "X_reg (45779, 5526)\n",
      "X.shape,type(X) (45779, 5526) <class 'scipy.sparse.csr.csr_matrix'>\n",
      "Epoch 1/100\n",
      "358/358 [==============================] - 5s 11ms/step - loss: -1.3958 - accuracy: 1.0000 - count_error: 0.3136 - val_loss: -1.6216 - val_accuracy: 1.0000 - val_count_error: 0.0775\n",
      "Epoch 2/100\n",
      "358/358 [==============================] - 4s 10ms/step - loss: -1.6187 - accuracy: 1.0000 - count_error: 0.0156 - val_loss: -1.6256 - val_accuracy: 1.0000 - val_count_error: 0.0514\n",
      "Epoch 3/100\n",
      "358/358 [==============================] - 4s 11ms/step - loss: -1.6256 - accuracy: 1.0000 - count_error: 0.0094 - val_loss: -1.6273 - val_accuracy: 1.0000 - val_count_error: 0.0237\n",
      "Epoch 4/100\n",
      "358/358 [==============================] - 4s 10ms/step - loss: -1.6265 - accuracy: 1.0000 - count_error: 0.0083 - val_loss: -1.6272 - val_accuracy: 1.0000 - val_count_error: 0.0374\n"
     ]
    }
   ],
   "source": [
    "# train visit model:\n",
    "# use fewer cores here because more memory is needed\n",
    "os.environ['NUMEXPR_MAX_THREADS'] = str(int(int(SETTINGS.NUMEXPR_MAX_THREADS)/2))\n",
    "sub_sim_stg = process_dat.get_settings(sub_sim)\n",
    "\n",
    "def fit_visit(dat, stg, hyp, parallel=True):\n",
    "    # fit activity-based visit model:\n",
    "    visit_model = sim_models.VisitModel(stg['NI'],stg['NU'],hyp)\n",
    "    visit_dat, n_impressions_by_visit = sim_models.preprocess_visit_dat(dat, SETTINGS.simulation_components['visit_model_cell_nbr'])\n",
    "    visit_model.fit(visit_dat, n_impressions_by_visit, hyp, stg, parallel=parallel)\n",
    "    #visit_model.save(paths.dat + SETTINGS.filepaths['visit_model_test-%s' % ab_test_id])\n",
    "    return visit_model\n",
    "\n",
    "train_dat = all_dat[all_dat['acnt.test_cell_nbr']==cells['train']]\n",
    "train_stg = process_dat.get_settings(train_dat)\n",
    "visit_model = fit_visit(train_dat, train_stg, SETTINGS.hyp['visit_model_hyp'])"
   ]
  },
  {
   "cell_type": "code",
   "execution_count": 68,
   "metadata": {
    "nterop": {
     "id": "410"
    }
   },
   "outputs": [],
   "source": [
    "visit_model.save(join(paths.dat, SETTINGS.filepaths['visit_model_test-%s' % ab_test_id] + '.big'))"
   ]
  },
  {
   "cell_type": "code",
   "execution_count": 50,
   "metadata": {
    "nterop": {
     "id": "466"
    }
   },
   "outputs": [
    {
     "data": {
      "text/plain": [
       "{'visit_loss_method': 'event_sample',\n",
       " 'lambda_grid_factor': 0.01,\n",
       " 'n_samples_per_user': 100,\n",
       " 'user_point_sample_factor': 1.0,\n",
       " 'time_sample_size': 100,\n",
       " 'parallel_process_features': True,\n",
       " 'visit_sample_grid_size': 0.5,\n",
       " 'fit_log_granular': False,\n",
       " 'log_history_path': 'dat/log/model_history_log.csv',\n",
       " 'window_size': 5,\n",
       " 'batch_size': 128,\n",
       " 'max_epoch': 100,\n",
       " 'patience': 0,\n",
       " 'min_delta': 0.0001,\n",
       " 'train_val_split': 1.0,\n",
       " 'time_model': {'n_hidden_layers': 1,\n",
       "  'n_nodes': [100],\n",
       "  'hidden_activation': 'relu',\n",
       "  'dropout_rate': 0.2},\n",
       " 'state_model': {'n_hidden_layers': 1,\n",
       "  'n_nodes': [20],\n",
       "  'hidden_activation': 'relu',\n",
       "  'dropout_rate': 0.5,\n",
       "  'dropout_positives': True},\n",
       " 'binary_classifier': {'lookahead_hours': 24,\n",
       "  'time_embed_dim': 10,\n",
       "  'n_hidden_layers': 2,\n",
       "  'n_nodes': [500, 100],\n",
       "  'hidden_activation': 'relu',\n",
       "  'dropout_rate': 0.1}}"
      ]
     },
     "execution_count": 50,
     "metadata": {
      "nterop": {
       "id": "467"
      }
     },
     "output_type": "execute_result"
    }
   ],
   "source": [
    "SETTINGS.hyp['visit_model_hyp']"
   ]
  },
  {
   "cell_type": "code",
   "execution_count": 69,
   "metadata": {
    "nterop": {
     "id": "468"
    }
   },
   "outputs": [
    {
     "name": "stdout",
     "output_type": "stream",
     "text": [
      "DescribeResult(nobs=10131, minmax=(0.0, 1.0), mean=0.002961208172934557, variance=0.0029527308741176678, skewness=18.294889177116367, kurtosis=332.7029700029699)\n",
      "total imp for user 10131\n",
      "total visits for user 30\n",
      "total streams for user 30.0\n",
      "ave streams per day for user 0.42869566800594094\n",
      "ave imp per day for user 144.77052708560626\n",
      "ave imp per visit for user 337.7\n",
      "num. streamed titles at t=0 0.0\n",
      "num. streamed titles at final t 13.0\n"
     ]
    },
    {
     "data": {
      "text/plain": [
       "(array([[-0.91414608,  0.        ,  0.        , ...,  0.        ,\n",
       "          0.        ,  0.        ],\n",
       "        [-0.91355067,  0.        ,  0.        , ...,  0.        ,\n",
       "          0.        ,  0.        ],\n",
       "        [-0.91295526,  0.        ,  0.        , ...,  0.        ,\n",
       "          0.        ,  0.        ],\n",
       "        ...,\n",
       "        [ 1.08464747,  0.        ,  0.        , ...,  0.        ,\n",
       "          0.        ,  0.        ],\n",
       "        [ 1.08524289,  0.        ,  0.        , ...,  0.        ,\n",
       "          0.        ,  0.        ],\n",
       "        [ 1.0858383 ,  0.        ,  0.        , ...,  0.        ,\n",
       "          0.        ,  0.        ]]),\n",
       " array([0.00000000e+00, 2.08333333e-02, 4.16666667e-02, ...,\n",
       "        6.99375000e+01, 6.99583333e+01, 6.99791667e+01]))"
      ]
     },
     "execution_count": 69,
     "metadata": {
      "nterop": {
       "id": "469"
      }
     },
     "output_type": "execute_result"
    },
    {
     "data": {
      "image/png": "[encoded data removed]",
      "text/plain": [
       "<Figure size 648x288 with 1 Axes>"
      ]
     },
     "metadata": {
      "needs_background": "light",
      "nterop": {
       "id": "470"
      }
     },
     "output_type": "display_data"
    }
   ],
   "source": [
    "explore_models.plot_rnd_user_visits(2, (1,1,1,1), train_dat, visit_model, train_stg, SETTINGS.hyp,\n",
    "                         None)"
   ]
  }
 ],
 "metadata": {
  "hide_input": false,
  "kernelspec": {
   "display_name": "Python 3 (ipykernel)",
   "language": "python",
   "name": "python3"
  },
  "language_info": {
   "codemirror_mode": {
    "name": "ipython",
    "version": 3
   },
   "file_extension": ".py",
   "mimetype": "text/x-python",
   "name": "python",
   "nbconvert_exporter": "python",
   "pygments_lexer": "ipython3",
   "version": "3.7.12"
  },
  "nterop": {
   "seedId": "470"
  }
 },
 "nbformat": 4,
 "nbformat_minor": 4
}
